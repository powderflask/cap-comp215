{
 "cells": [
  {
   "cell_type": "markdown",
   "source": [
    "# Python Foundations:  new syntax for maps and sequences\n",
    "New Python syntax / concepts for working more effectively with python's built-in map type, `dict`,\n",
    " and linear sequence types, `str`, `tuple`, and `list`\n",
    "\n",
    "Foundations notebook available on Github from the powderflask/cap-comp215 repository.\n",
    "As usual, the first code block just imports the modules we will use."
   ],
   "metadata": {
    "collapsed": false
   }
  },
  {
   "cell_type": "code",
   "execution_count": 18,
   "metadata": {
    "collapsed": true,
    "ExecuteTime": {
     "end_time": "2024-02-06T01:13:54.678844Z",
     "start_time": "2024-02-06T01:13:54.663182Z"
    }
   },
   "outputs": [],
   "source": [
    "from pprint import pprint"
   ]
  },
  {
   "cell_type": "markdown",
   "source": [
    "## New Python Syntax: dictionary constructor\n",
    "Often constructing a dictionary using keyword arguments makes for more readable code..."
   ],
   "metadata": {
    "collapsed": false,
    "pycharm": {
     "name": "#%% md\n"
    }
   }
  },
  {
   "cell_type": "code",
   "execution_count": 19,
   "outputs": [
    {
     "data": {
      "text/plain": "({'a': 1, 'b': 2, 'c': 3}, {'a': 1, 'b': 2, 'c': 3})"
     },
     "execution_count": 19,
     "metadata": {},
     "output_type": "execute_result"
    }
   ],
   "source": [
    "d1 = {\n",
    "    'a' : 1,\n",
    "    'b' : 2,\n",
    "    'c' : 3,\n",
    "}\n",
    "# vs.\n",
    "d2 = dict(a=1, b=2, c=3)   # only works if dictionary keys are valid python identifiers.\n",
    "\n",
    "assert d1 == d2\n",
    "\n",
    "d1, d2"
   ],
   "metadata": {
    "collapsed": false,
    "pycharm": {
     "name": "#%%\n"
    },
    "ExecuteTime": {
     "end_time": "2024-02-06T01:13:54.679572Z",
     "start_time": "2024-02-06T01:13:54.667317Z"
    }
   }
  },
  {
   "cell_type": "markdown",
   "source": [
    "## New Python Syntax: tuple unpacking\n",
    "\n",
    "Sequences can be \"unpacked\" in various useful ways.  \n",
    "Here we'll demonstrate using `tuples` but these techniques work with any sequence type..."
   ],
   "metadata": {
    "collapsed": false
   }
  },
  {
   "cell_type": "code",
   "execution_count": 20,
   "outputs": [],
   "source": [
    "t = 1, 2, 3    # a tuple is a comma-separated ordered sequence of values\n",
    "a, b, c = t    # \"unpack\" the sequence into separate variables\n",
    "assert a == 1 and b == 2 and c == 3"
   ],
   "metadata": {
    "collapsed": false,
    "ExecuteTime": {
     "end_time": "2024-02-06T01:13:54.679793Z",
     "start_time": "2024-02-06T01:13:54.670698Z"
    }
   }
  },
  {
   "cell_type": "code",
   "execution_count": 21,
   "outputs": [
    {
     "data": {
      "text/plain": "(1, 2, 3, 4, 5, 6)"
     },
     "execution_count": 21,
     "metadata": {},
     "output_type": "execute_result"
    }
   ],
   "source": [
    "t1 = (1, 2, 3)\n",
    "t2 = (4, 5, 6)\n",
    "merged = (*t1, *t2)  # unpack 2 sequences into a merged sequence\n",
    "merged"
   ],
   "metadata": {
    "collapsed": false,
    "ExecuteTime": {
     "end_time": "2024-02-06T01:13:54.680002Z",
     "start_time": "2024-02-06T01:13:54.672582Z"
    }
   }
  },
  {
   "cell_type": "markdown",
   "source": [
    "## New Python Syntax:  dict unpacking\n",
    "\n",
    "Similarly, we can \"unpack\" a map data structure (e.g., `dict`) using the `**` operator.\n",
    "\n",
    "We will see many uses for this syntax, but a handy one is to merge dictionaries together.\n",
    "Notice the dict merged in \"last\" overrides the value of keys defined by earlier dicts."
   ],
   "metadata": {
    "collapsed": false,
    "pycharm": {
     "name": "#%% md\n"
    }
   }
  },
  {
   "cell_type": "code",
   "execution_count": 22,
   "outputs": [
    {
     "data": {
      "text/plain": "{'a': 1, 'b': 2, 'c': 9, 'd': 8, 'e': 7}"
     },
     "execution_count": 22,
     "metadata": {},
     "output_type": "execute_result"
    }
   ],
   "source": [
    "d3 = dict(a=1, b=2, c=3)\n",
    "d4 = dict(c=9, d=8, e=7)  # note also contains key 'c'\n",
    "\n",
    "merged = {**d3, **d4}\n",
    "merged"
   ],
   "metadata": {
    "collapsed": false,
    "pycharm": {
     "name": "#%%\n"
    },
    "ExecuteTime": {
     "end_time": "2024-02-06T01:13:54.685087Z",
     "start_time": "2024-02-06T01:13:54.682298Z"
    }
   }
  },
  {
   "cell_type": "markdown",
   "source": [
    "## New built-in function:  zip()\n",
    "\n",
    "`zip()` is a very powerful function for transforming linear data structures.\n",
    "\n",
    "Think of it like a zipper - it takes 2 (or more) linear  sequences and \"zippers\" their elements together..."
   ],
   "metadata": {
    "collapsed": false
   }
  },
  {
   "cell_type": "code",
   "execution_count": 23,
   "outputs": [
    {
     "data": {
      "text/plain": "[('a', 1), ('b', 2), ('c', 3), ('d', 4)]"
     },
     "execution_count": 23,
     "metadata": {},
     "output_type": "execute_result"
    }
   ],
   "source": [
    "t1 = ('a', 'b', 'c', 'd')\n",
    "t2 = (1, 2, 3, 4, 5)\n",
    "\n",
    "zippered = zip(t1, t2)\n",
    "list(zippered)   # notice that the length of the \"zipped\" tuples is bounded by the shortest input sequence"
   ],
   "metadata": {
    "collapsed": false,
    "ExecuteTime": {
     "end_time": "2024-02-06T01:13:54.689021Z",
     "start_time": "2024-02-06T01:13:54.686224Z"
    }
   }
  },
  {
   "cell_type": "markdown",
   "source": [
    "### Create a dict from \"parallel sequences\"\n",
    "Here's an example that transforms 2 tuples into a dictionary that maps values in the first tuple to the correspondng value from the second!"
   ],
   "metadata": {
    "collapsed": false
   }
  },
  {
   "cell_type": "code",
   "execution_count": 24,
   "outputs": [
    {
     "data": {
      "text/plain": "{'a': 1, 'b': 2, 'c': 3, 'd': 4}"
     },
     "execution_count": 24,
     "metadata": {},
     "output_type": "execute_result"
    }
   ],
   "source": [
    "dict(zip(t1, t2))"
   ],
   "metadata": {
    "collapsed": false,
    "ExecuteTime": {
     "end_time": "2024-02-06T01:13:54.691582Z",
     "start_time": "2024-02-06T01:13:54.689036Z"
    }
   }
  },
  {
   "cell_type": "markdown",
   "source": [
    "... python's built-in types and functions provide a near endless variety of ways to merge, unpack, and transform data.  \n",
    "But it takes some practice to learn how to think about data transformations clearly, and harness python's power effectively."
   ],
   "metadata": {
    "collapsed": false
   }
  }
 ],
 "metadata": {
  "kernelspec": {
   "display_name": "Python 3",
   "language": "python",
   "name": "python3"
  },
  "language_info": {
   "codemirror_mode": {
    "name": "ipython",
    "version": 2
   },
   "file_extension": ".py",
   "mimetype": "text/x-python",
   "name": "python",
   "nbconvert_exporter": "python",
   "pygments_lexer": "ipython2",
   "version": "2.7.6"
  }
 },
 "nbformat": 4,
 "nbformat_minor": 0
}
