{
 "cells": [
  {
   "cell_type": "markdown",
   "source": [
    "# Python Foundations:  Argument unpacking\n",
    "New Python syntax / concepts - working effectively with *arg and **kwargs\n",
    "\n",
    "Foundations notebook available on Github from the powderflask/cap-comp215 repository.\n",
    "As usual, the first code block just imports the modules we will use."
   ],
   "metadata": {
    "collapsed": false
   }
  },
  {
   "cell_type": "markdown",
   "source": [],
   "metadata": {
    "collapsed": false
   }
  },
  {
   "cell_type": "code",
   "execution_count": 1,
   "metadata": {
    "collapsed": true,
    "ExecuteTime": {
     "end_time": "2024-02-06T01:16:52.794186Z",
     "start_time": "2024-02-06T01:16:51.598023Z"
    }
   },
   "outputs": [],
   "source": [
    "import math\n",
    "\n",
    "import matplotlib.pyplot as plt"
   ]
  },
  {
   "cell_type": "markdown",
   "source": [
    "## New Python Syntax: argument unpacking"
   ],
   "metadata": {
    "collapsed": false
   }
  },
  {
   "cell_type": "code",
   "execution_count": 2,
   "outputs": [
    {
     "name": "stdout",
     "output_type": "stream",
     "text": [
      "positional args is a <class 'tuple'>: (42, 'hello')\n",
      "keyword args is a <class 'dict'>: {'foo': True, 'bar': [1, 2, 3]}\n"
     ]
    }
   ],
   "source": [
    "def print_args(*args, **kwargs):\n",
    "    print(f'positional args is a {type(args)}: {args}')\n",
    "    print(f'keyword args is a {type(kwargs)}: {kwargs}')\n",
    "\n",
    "print_args(42, 'hello', foo=True, bar=[1,2,3])"
   ],
   "metadata": {
    "collapsed": false,
    "pycharm": {
     "name": "#%%\n"
    },
    "ExecuteTime": {
     "end_time": "2024-02-06T01:16:52.798051Z",
     "start_time": "2024-02-06T01:16:52.795346Z"
    }
   }
  },
  {
   "cell_type": "markdown",
   "source": [
    "### Unpacking a dictionary or tuple to pass a collection of arguments"
   ],
   "metadata": {
    "collapsed": false
   }
  },
  {
   "cell_type": "code",
   "execution_count": 3,
   "outputs": [
    {
     "name": "stdout",
     "output_type": "stream",
     "text": [
      "positional args is a <class 'tuple'>: ('cool', 'numbers')\n",
      "keyword args is a <class 'dict'>: {'phi': 1.618033988749, 'pi': 3.141592653589793, 'h': 6.62607015e-34}\n"
     ]
    }
   ],
   "source": [
    "a = (\"cool\", 'numbers')\n",
    "d = dict(phi=1.618033988749, pi=math.pi, h=6.62607015e-34)\n",
    "\n",
    "print_args(*a, **d)"
   ],
   "metadata": {
    "collapsed": false,
    "pycharm": {
     "name": "#%%\n"
    },
    "ExecuteTime": {
     "end_time": "2024-02-06T01:16:52.800846Z",
     "start_time": "2024-02-06T01:16:52.797924Z"
    }
   }
  },
  {
   "cell_type": "markdown",
   "source": [
    "#### Argument Unpacking: example\n",
    "unpacking data dictionary and empirical coefficient values for *Basal Metabolic Rate* (BMR) calculation:\n",
    "\n",
    "males :   `BMR = 66 + 13.7 * weight (kg) + 5 * height (cm) - 6.8 * age (years)`\n",
    "\n",
    "female: `BMR = 655 + 9.6 * weight (kg) + 1.8 * height (cm) - 4.7 * age (years)`"
   ],
   "metadata": {
    "collapsed": false,
    "pycharm": {
     "name": "#%% md\n"
    }
   }
  },
  {
   "cell_type": "code",
   "execution_count": 4,
   "outputs": [
    {
     "data": {
      "text/plain": "{'bob': 1619.0, 'bei': 1333.5, 'kai': 2185.8, 'kia': 1437.1}"
     },
     "execution_count": 4,
     "metadata": {},
     "output_type": "execute_result"
    }
   ],
   "source": [
    "people = (\n",
    "    dict(name='bob', gender='male', weight=70, height=180, age=45),\n",
    "    dict(name='bei', gender='female', weight=55, height=175, age=35),\n",
    "    dict(name='kai', gender='male', weight=90, height=210, age=24),\n",
    "    dict(name='kia', gender='female', weight=60, height=185, age=27),\n",
    ")\n",
    "\n",
    "BMR_PARAMS = dict(\n",
    "    male=(66, 13.7, 5, -6.8),     # 66 + 13.7 * weight (kg) + 5 * height (cm) - 6.8 * age (years)\n",
    "    female=(655, 9.6, 1.8, -4.7), # 655 + 9.6 * weight (kg) + 1.8 * height (cm) - 4.7 * age (years)\n",
    ")\n",
    "\n",
    "def bmr(a, b, c, d, weight, height, age, **kwargs):\n",
    "    \"\"\" Return the BMR for coefficients a,b,c,d and given weight (kg), height (cm) and age (years) \"\"\"\n",
    "    return a + b*weight + c*height + d*age\n",
    "\n",
    "{\n",
    "    p['name']: bmr(*BMR_PARAMS[p['gender']], **p)   for p in people\n",
    "}"
   ],
   "metadata": {
    "collapsed": false,
    "pycharm": {
     "name": "#%%\n"
    },
    "ExecuteTime": {
     "end_time": "2024-02-06T01:16:52.806060Z",
     "start_time": "2024-02-06T01:16:52.803862Z"
    }
   }
  },
  {
   "cell_type": "markdown",
   "source": [
    "#### Argument Unpacking: example\n",
    "unpacking coordinates for line segments in a 7-segment display."
   ],
   "metadata": {
    "collapsed": false,
    "pycharm": {
     "name": "#%% md\n"
    }
   }
  },
  {
   "cell_type": "code",
   "execution_count": 5,
   "outputs": [
    {
     "data": {
      "text/plain": "<Figure size 640x480 with 1 Axes>",
      "image/png": "[encoded data removed]"
     },
     "metadata": {},
     "output_type": "display_data"
    }
   ],
   "source": [
    "# (start, end) coordinates for each segment on a 3 x 5 grid (0, 0) to (2, 4)\n",
    "SEGS_COORDS = (\n",
    "    ((0,4), (2,4)),  # top horizontal\n",
    "    ((0,2), (0,4)),  # left-upper vertical\n",
    "    ((2,2), (2,4)),  # right-upper vertical\n",
    "    ((0,2), (2,2)),  # middle horizontal\n",
    "    ((0,0), (0,2)),  # left-lower vertical\n",
    "    ((2,0), (2,2)),  # right-lower vertical\n",
    "    ((0,0), (2,0)),  # bottom horizontal\n",
    ")\n",
    "# Transform coordinate pairs ((x1, y1), (x2, y2)) into ordinate vectors ((x1, x2), (y1, y2)) (for matplotlib)\n",
    "SEG_ORDS = [zip(*coords) for coords in SEGS_COORDS]\n",
    "# List of segments needed to display each of 9 digits\n",
    "SEGMENTS = (\n",
    "    (0, 1, 2, 4, 5, 6),     # 0\n",
    "    (2, 5),                 # 1\n",
    "    (0, 2, 3, 4, 6),        # 2\n",
    "    (0, 2, 3, 5, 6),        # 3\n",
    "    (1, 2, 3, 5),           # 4\n",
    "    (0, 1, 3, 5, 6),        # 5\n",
    "    (1, 3, 4, 5, 6),        # 6\n",
    "    (0, 2, 5),              # 7\n",
    "    (0, 1, 2, 3, 4, 5, 6),  # 8\n",
    "    (0, 1, 2, 3, 5)         # 9\n",
    ")\n",
    "\n",
    "def seven_seg_display(d):\n",
    "    \"\"\" Plot digit d as a seven segment display \"\"\"\n",
    "    assert 0 <= d <= 9\n",
    "    for seg in SEGMENTS[d]:\n",
    "        plt.plot(*SEG_ORDS[seg])\n",
    "\n",
    "N = 8\n",
    "seven_seg_display(N)\n",
    "plt.axis('equal')\n",
    "plt.axis('off')\n",
    "plt.show()"
   ],
   "metadata": {
    "collapsed": false,
    "pycharm": {
     "name": "#%%\n"
    },
    "ExecuteTime": {
     "end_time": "2024-02-06T01:16:52.859879Z",
     "start_time": "2024-02-06T01:16:52.809210Z"
    }
   }
  }
 ],
 "metadata": {
  "kernelspec": {
   "display_name": "Python 3",
   "language": "python",
   "name": "python3"
  },
  "language_info": {
   "codemirror_mode": {
    "name": "ipython",
    "version": 2
   },
   "file_extension": ".py",
   "mimetype": "text/x-python",
   "name": "python",
   "nbconvert_exporter": "python",
   "pygments_lexer": "ipython2",
   "version": "2.7.6"
  }
 },
 "nbformat": 4,
 "nbformat_minor": 0
}
