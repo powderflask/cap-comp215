{
 "nbformat": 4,
 "nbformat_minor": 0,
 "metadata": {
  "colab": {
   "name": "week3.ipynb",
   "provenance": [],
   "include_colab_link": true
  },
  "kernelspec": {
   "name": "python3",
   "language": "python",
   "display_name": "Python 3 (ipykernel)"
  },
  "language_info": {
   "name": "python"
  }
 },
 "cells": [
  {
   "cell_type": "markdown",
   "source": [
    "# Classes and Objects\n",
    "Our week 3 lesson workbook, available on Github from the powderflask/cap-comp215 repository.\n",
    "\n",
    "As usual, the first code block just imports the modules we will use."
   ],
   "metadata": {
    "id": "WBMC0GrjNRTM"
   }
  },
  {
   "cell_type": "code",
   "execution_count": 26,
   "outputs": [],
   "source": [
    "import math\n",
    "import random\n",
    "from collections import defaultdict\n",
    "\n",
    "import matplotlib.pyplot as plt\n",
    "from pprint import pprint"
   ],
   "metadata": {
    "pycharm": {
     "name": "#%%\n"
    },
    "id": "Xuhr0Iqrkl7M",
    "outputId": "fffe8d12-7982-43c8-aeb6-00f6fd6b78a8",
    "colab": {
     "base_uri": "https://localhost:8080/"
    },
    "ExecuteTime": {
     "end_time": "2023-12-31T02:31:58.997602Z",
     "start_time": "2023-12-31T02:31:58.976539Z"
    }
   }
  },
  {
   "cell_type": "markdown",
   "source": [
    "### Everything in `python` is an `object`!\n",
    "  * and every `object` has a `type`! \n",
    "    * use `type(object)` to learn the type of an object\n",
    "    * a `class` is used to define a `type`!\n",
    "  * even a `function` is an `object` !!\n",
    "  * an `object` has attributes, you can just add new attributes to any object (but don't!)\n",
    " \n",
    "A little code to demonstrate..."
   ],
   "metadata": {
    "collapsed": false
   }
  },
  {
   "cell_type": "code",
   "execution_count": 27,
   "outputs": [],
   "source": [
    "# demo code"
   ],
   "metadata": {
    "collapsed": false,
    "ExecuteTime": {
     "end_time": "2023-12-31T02:31:59.009106Z",
     "start_time": "2023-12-31T02:31:58.997351Z"
    }
   }
  },
  {
   "cell_type": "markdown",
   "source": [
    "## Problem: Collision detection using circles\n",
    "A `class` is just a collection of `functions` that all work on the same piece of `data structure`.\n",
    "\n",
    "The `data structure` is defined by the class's `instance variables`.\n",
    "\n",
    "Easiest to understand if we do an example - let's define a `Circle` object type..."
   ],
   "metadata": {
    "collapsed": false,
    "id": "9kidyXF4kl7N"
   }
  },
  {
   "cell_type": "code",
   "execution_count": 28,
   "outputs": [],
   "source": [
    "class Circle:\n",
    "    \"\"\" Representation for the data and operations on a circle \"\"\"\n",
    "\n",
    "    def str(self):\n",
    "        \"\"\" Return a string representation of the Circle \"\"\"\n",
    "        \n",
    "    def area(self):\n",
    "        \"\"\" Return the area of this circle \"\"\"\n",
    "\n",
    "    def move(self, offset):\n",
    "        \"\"\" Move this circle by given (x,y) offset \"\"\"\n",
    "\n",
    "    def distance(self, other):\n",
    "        \"\"\" Return the distance between this circle and the other one \"\"\"\n",
    "\n",
    "    def intersects(self, other):\n",
    "        \"\"\" Return True iff this circle intersects the other one \"\"\"\n"
   ],
   "metadata": {
    "pycharm": {
     "name": "#%%\n"
    },
    "id": "JzVlJnx0kl7O",
    "ExecuteTime": {
     "end_time": "2023-12-31T02:31:59.009328Z",
     "start_time": "2023-12-31T02:31:59.002235Z"
    }
   }
  },
  {
   "cell_type": "code",
   "execution_count": 29,
   "outputs": [],
   "source": [
    "# Test Circle class\n"
   ],
   "metadata": {
    "pycharm": {
     "name": "#%%\n"
    },
    "id": "yAie8rLAkl7P",
    "outputId": "62b017b1-bcb7-4858-9f37-1bb900eeb960",
    "colab": {
     "base_uri": "https://localhost:8080/"
    },
    "ExecuteTime": {
     "end_time": "2023-12-31T02:31:59.025360Z",
     "start_time": "2023-12-31T02:31:59.011556Z"
    }
   }
  },
  {
   "cell_type": "markdown",
   "source": [
    "## Problem:  Counting\n",
    "When conducting an experiment, it is common to count occurances.  For example\n",
    "\n",
    "* in a physics experiment, we might count the number of atomic collisions in which certain sub-atomic particles were produced\n",
    "* in biology, we might count the number of cells infected by a virus after a fixed time period\n",
    "* in a computational experiment, we might count the frequency with which clusters of a give size form\n",
    "\n",
    "To visualize such experimental results, we would generally plot a histogram, like this:\n"
   ],
   "metadata": {
    "collapsed": false,
    "id": "KgcBUGH4kl7Q"
   }
  },
  {
   "cell_type": "code",
   "source": [
    "# Experiment: Get the age distribution for Cap students\n",
    "n_cap_students = 11500\n",
    "\n",
    "# Simulate getting the age for one Cap student\n",
    "def get_age(student_id):\n",
    "    return int(random.normalvariate(mu=24, sigma=4))  # Normally distributed age with mean of 24 years\n",
    "\n",
    "# Run experiment to obtain the age for each student\n",
    "data = [get_age(id) for id in range(n_cap_students)]\n",
    "\n",
    "# count the number of students in each age class\n",
    "histogram = {}\n",
    "for age in data:\n",
    "    histogram[age] = histogram.get(age, 0) + 1\n",
    "\n",
    "# configure a plot to draw the bar chart in\n",
    "_, ax = plt.subplots()\n",
    "ax.set(\n",
    "    title=\"Age distribution for Cap Students\",\n",
    "    xlabel='Age (years)',\n",
    "    ylabel='Count',\n",
    ")\n",
    "\n",
    "# plot a histogram of the data, divided into n \"equal width\" bins\n",
    "ax.bar(histogram.keys(), histogram.values())\n",
    "plt.show()"
   ],
   "metadata": {
    "id": "HZSz8IftqJ72",
    "outputId": "e67e1423-34f0-4c80-fae7-602302ae30bc",
    "colab": {
     "base_uri": "https://localhost:8080/",
     "height": 333
    },
    "ExecuteTime": {
     "end_time": "2023-12-31T02:33:02.083690Z",
     "start_time": "2023-12-31T02:33:01.998264Z"
    }
   },
   "execution_count": 34,
   "outputs": [
    {
     "data": {
      "text/plain": "<Figure size 640x480 with 1 Axes>",
      "image/png": "[encoded data removed]"
     },
     "metadata": {},
     "output_type": "display_data"
    }
   ]
  },
  {
   "cell_type": "markdown",
   "source": [
    "## Custom Histogram Class\n",
    "\n",
    "Define our own historgram class that serves as a \"wrapper\" for clunky pyplot ax.hist"
   ],
   "metadata": {
    "id": "naDVayQLkznK"
   }
  },
  {
   "cell_type": "code",
   "source": [
    "class Histogram:\n",
    "    \"\"\" A simple histogram with a nice API \"\"\"\n",
    "    def __init__(self, title, xlabel='Categories', ylabel='Count'):\n",
    "        _, ax = plt.subplots()\n",
    "        ax.set(\n",
    "            title=title,\n",
    "            xlabel=xlabel,\n",
    "            ylabel=ylabel,\n",
    "        )\n",
    "        self.ax = ax\n",
    "        self.counts = {}\n",
    "\n",
    "    def count(self, category):\n",
    "        self.counts[category] = self.counts.get(category, 0) + 1\n",
    "\n",
    "    def plot(self):\n",
    "        self.ax.bar(self.counts.keys(), self.counts.values())\n",
    "        plt.show()"
   ],
   "metadata": {
    "id": "Ai9qb3Bolw4h",
    "ExecuteTime": {
     "end_time": "2023-12-31T02:31:59.205268Z",
     "start_time": "2023-12-31T02:31:59.157995Z"
    }
   },
   "execution_count": 31,
   "outputs": []
  },
  {
   "cell_type": "markdown",
   "source": [
    "### The Power of Abstraction\n",
    "\n",
    "The real benefits appear when we go to use this class to solve the original problem.\n",
    "\n",
    "Notice how creating an \"abstraction\" for a histogram makes it much easier to understand what the computation is doing.  Also notice, the class is \"reusable\" - we can now deploy this abstraction any time we need a histogram!"
   ],
   "metadata": {
    "collapsed": false
   }
  },
  {
   "cell_type": "code",
   "execution_count": 32,
   "outputs": [
    {
     "data": {
      "text/plain": "<Figure size 640x480 with 1 Axes>",
      "image/png": "[encoded data removed]"
     },
     "metadata": {},
     "output_type": "display_data"
    }
   ],
   "source": [
    "hist = Histogram(title='Age Distribution for Cap Students', xlabel='Age (years)')\n",
    "for id in range(n_cap_students):\n",
    "    hist.count(get_age(id))\n",
    "hist.plot()"
   ],
   "metadata": {
    "pycharm": {
     "name": "#%%\n"
    },
    "id": "QxLQc9nokl7T",
    "outputId": "e3471832-5326-4c0c-abb5-f02884110fef",
    "colab": {
     "base_uri": "https://localhost:8080/",
     "height": 316
    },
    "ExecuteTime": {
     "end_time": "2023-12-31T02:31:59.277250Z",
     "start_time": "2023-12-31T02:31:59.164409Z"
    }
   }
  },
  {
   "cell_type": "code",
   "execution_count": 32,
   "outputs": [],
   "source": [],
   "metadata": {
    "pycharm": {
     "name": "#%%\n"
    },
    "id": "-y3O-TIYkl7T",
    "ExecuteTime": {
     "end_time": "2023-12-31T02:31:59.287332Z",
     "start_time": "2023-12-31T02:31:59.279539Z"
    }
   }
  }
 ]
}
