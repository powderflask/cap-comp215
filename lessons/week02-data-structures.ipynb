{
 "nbformat": 4,
 "nbformat_minor": 0,
 "metadata": {
  "kernelspec": {
   "display_name": "Python 3",
   "language": "python",
   "name": "python3"
  },
  "language_info": {
   "codemirror_mode": {
    "name": "ipython",
    "version": 2
   },
   "file_extension": ".py",
   "mimetype": "text/x-python",
   "name": "python",
   "nbconvert_exporter": "python",
   "pygments_lexer": "ipython2",
   "version": "2.7.6"
  }
 },
 "cells": [
  {
   "cell_type": "markdown",
   "source": [
    "# Sequence and Map data structures - Strings, Tuples, Lists, Dictionaries\n",
    "Our week 2 lesson workbook, available on Github from the powderflask/cap-comp215 repository.\n",
    "\n",
    "As usual, the first code block just imports the modules we will use."
   ],
   "metadata": {
    "id": "WBMC0GrjNRTM"
   }
  },
  {
   "cell_type": "code",
   "execution_count": 28,
   "metadata": {
    "id": "C1a6aDXAM0WM"
   },
   "outputs": [],
   "source": [
    "import datetime\n",
    "import matplotlib.pyplot as plt\n",
    "import  matplotlib.dates as mdates\n",
    "from pprint import pprint"
   ]
  },
  {
   "cell_type": "markdown",
   "source": [
    "## f-strings\n",
    "A `string` is a sequence of characters / symbols.\n",
    "This familiar data structure is quite powerful, and format-strings (f-strings) take it to the next level...."
   ],
   "metadata": {
    "collapsed": false,
    "pycharm": {
     "name": "#%% md\n"
    }
   }
  },
  {
   "cell_type": "code",
   "execution_count": 29,
   "outputs": [
    {
     "data": {
      "text/plain": "'{today} is not special, but {the_answer} and {PI} are!'"
     },
     "execution_count": 29,
     "metadata": {},
     "output_type": "execute_result"
    }
   ],
   "source": [
    "today = datetime.date.today()\n",
    "the_answer = 42\n",
    "PI = 3.1415926535\n",
    "\n",
    "'{today} is not special, but {the_answer} and {PI} are!'"
   ],
   "metadata": {
    "collapsed": false,
    "pycharm": {
     "name": "#%%\n"
    }
   }
  },
  {
   "cell_type": "markdown",
   "source": [
    "## List Comprehension\n",
    "Provides a compact syntax for two very common sequence-processing algorithms:  Map  and Filter\n",
    "\n",
    "Basic syntax:"
   ],
   "metadata": {
    "id": "k70NJ-JTNwYN"
   }
  },
  {
   "cell_type": "code",
   "source": [],
   "metadata": {
    "id": "HZSz8IftqJ72",
    "colab": {
     "base_uri": "https://localhost:8080/"
    },
    "outputId": "5b74860f-94af-483c-f4a8-4ef27ba7dd4a"
   },
   "execution_count": 29,
   "outputs": []
  },
  {
   "cell_type": "markdown",
   "source": [
    "### Map Algorithm\n",
    "Apply the same function to every item in another sequence (i.e., provide a \"mapping\" from the source sequence to the target"
   ],
   "metadata": {
    "collapsed": false,
    "pycharm": {
     "name": "#%% md\n"
    }
   }
  },
  {
   "cell_type": "code",
   "execution_count": 30,
   "outputs": [],
   "source": [
    "# Problem:  compute the first 10 natural squares"
   ],
   "metadata": {
    "collapsed": false,
    "pycharm": {
     "name": "#%%\n"
    }
   }
  },
  {
   "cell_type": "markdown",
   "source": [
    "### Filter\n",
    "Select a sub-set of the elements from another sequence based on some criteria."
   ],
   "metadata": {
    "collapsed": false,
    "pycharm": {
     "name": "#%% md\n"
    }
   }
  },
  {
   "cell_type": "code",
   "execution_count": 31,
   "outputs": [],
   "source": [
    "VOWELS = 'aeiou'\n",
    "text = '''\n",
    "Lorem ipsum dolor sit amet, consectetur adipiscing elit, sed do eiusmod tempor incididunt ut labore et dolore magna aliqua. Ut enim ad minim veniam, quis nostrud exercitation ullamco laboris nisi ut aliquip ex ea commodo consequat.\n",
    "'''\n",
    "# Problem:  create a string with just the vowels from the text, in order.\n"
   ],
   "metadata": {
    "collapsed": false,
    "pycharm": {
     "name": "#%%\n"
    }
   }
  },
  {
   "cell_type": "markdown",
   "source": [
    "## Data Wrangling with List Comprehension\n",
    "E-learn's Live Quiz module does track quiz scores for each student, but does not store them in the gradebook,\n",
    "and it reports on them in the most useless way.\n",
    "\n",
    "Let's do some \"data wrangling\" to make sense out of this mess!\n",
    "\n",
    "### The Problem: Unstructured Data!\n",
    "Notice it is just a single large string!  The real data set has 36 students, and I need to do this every week!"
   ],
   "metadata": {
    "collapsed": false,
    "pycharm": {
     "name": "#%% md\n"
    }
   }
  },
  {
   "cell_type": "code",
   "execution_count": 32,
   "outputs": [
    {
     "data": {
      "text/plain": "'\\n  1.                 Ali Oop scored  7/ 8 = 87%\\n\\n\\n  2.          Alison Ralison scored  8/ 8 = 100%\\n\\n\\n  3.         Ambily Piturbed scored  8/ 8 = 100%\\n\\n\\n  4.  Arshan Risnot Farquared scored  5/ 8 = 62%\\n\\n\\n  5.       Ayushma Jugernaugh scored  5/ 8 = 62%\\n\\n\\n  6.       Brayden Labaguette scored  7/ 8 = 87%\\n'"
     },
     "execution_count": 32,
     "metadata": {},
     "output_type": "execute_result"
    }
   ],
   "source": [
    "\"\"\"\n",
    "  1.                 Ali Oop scored  7/ 8 = 87%\n",
    "\n",
    "\n",
    "  2.          Alison Ralison scored  8/ 8 = 100%\n",
    "\n",
    "\n",
    "  3.         Ambily Piturbed scored  8/ 8 = 100%\n",
    "\n",
    "\n",
    "  4.  Arshan Risnot Farquared scored  5/ 8 = 62%\n",
    "\n",
    "\n",
    "  5.       Ayushma Jugernaugh scored  5/ 8 = 62%\n",
    "\n",
    "\n",
    "  6.       Brayden Labaguette scored  7/ 8 = 87%\n",
    "\"\"\""
   ],
   "metadata": {
    "collapsed": false,
    "pycharm": {
     "name": "#%%\n"
    }
   }
  },
  {
   "cell_type": "markdown",
   "source": [
    "### Goal\n",
    "Turn this into structured data: a list of 2-tuples, each student's full name and their integer score."
   ],
   "metadata": {
    "collapsed": false,
    "pycharm": {
     "name": "#%% md\n"
    }
   }
  },
  {
   "cell_type": "code",
   "execution_count": 32,
   "outputs": [],
   "source": [],
   "metadata": {
    "collapsed": false,
    "pycharm": {
     "name": "#%%\n"
    }
   }
  },
  {
   "cell_type": "markdown",
   "source": [
    "## Records\n",
    "A *record* is a compound data value - a collection of simpler data values (fields) that all describe a single entity.\n",
    "\n",
    " * tuple\n",
    " * dictionary\n",
    " * object\n",
    "\n",
    "Problem: develop the data representation for a `student` in a student record system,\n",
    "where a `student` has a first and last name, student id, and date of birth"
   ],
   "metadata": {
    "collapsed": false
   }
  },
  {
   "cell_type": "code",
   "source": [
    "# Tuple\n",
    "\n",
    "# Dictionary\n",
    "\n",
    "# Object"
   ],
   "metadata": {
    "colab": {
     "base_uri": "https://localhost:8080/",
     "height": 58
    },
    "id": "Ai9qb3Bolw4h",
    "outputId": "2e0926a0-3354-45d2-8769-54290d4decc1"
   },
   "execution_count": 33,
   "outputs": []
  },
  {
   "cell_type": "code",
   "execution_count": 33,
   "outputs": [],
   "source": [],
   "metadata": {
    "collapsed": false,
    "pycharm": {
     "name": "#%%\n"
    }
   }
  }
 ]
}
