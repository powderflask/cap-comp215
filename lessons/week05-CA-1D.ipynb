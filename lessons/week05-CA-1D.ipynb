{
 "nbformat": 4,
 "nbformat_minor": 0,
 "metadata": {
  "kernelspec": {
   "display_name": "Python 3",
   "language": "python",
   "name": "python3"
  },
  "language_info": {
   "codemirror_mode": {
    "name": "ipython",
    "version": 2
   },
   "file_extension": ".py",
   "mimetype": "text/x-python",
   "name": "python",
   "nbconvert_exporter": "python",
   "pygments_lexer": "ipython2",
   "version": "2.7.6"
  }
 },
 "cells": [
  {
   "cell_type": "markdown",
   "source": [
    "# Cellular Automata\n",
    "Our week 5 workbook, available on Github from the powderflask/cap-comp215 repository.\n",
    "\n",
    "As usual, the first code block just imports the modules we will use."
   ],
   "metadata": {
    "id": "WBMC0GrjNRTM"
   }
  },
  {
   "cell_type": "code",
   "execution_count": 80,
   "outputs": [],
   "source": [
    "%matplotlib inline\n",
    "\n",
    "import matplotlib\n",
    "import matplotlib.pyplot as plt\n",
    "import numpy as np\n",
    "from timeit import timeit\n",
    "\n",
    "# Configure matplotlib's animation library to work in the browser.\n",
    "matplotlib.rc('animation', html='jshtml')"
   ],
   "metadata": {
    "collapsed": false,
    "pycharm": {
     "name": "#%%\n"
    },
    "ExecuteTime": {
     "end_time": "2024-01-03T02:53:20.019202Z",
     "start_time": "2024-01-03T02:53:19.932987Z"
    }
   }
  },
  {
   "cell_type": "markdown",
   "source": [
    "## Zero-dimensional CA\n",
    "Here's a simple implementation of the 0-D CA mentioned in the book.\n",
    "This CA is a single scalar value and a rule for computing its state-transition in the next time step.\n",
    "The rule we use  is:  $ state[t+1] = (state[t] + 1)\\mod2 $\n",
    "where $t$ represents the \"time step\" of the simulation.  Notice this is a [recurrence relation](https://en.wikipedia.org/wiki/Recurrence_relation)"
   ],
   "metadata": {
    "collapsed": false,
    "pycharm": {
     "name": "#%% md\n"
    }
   }
  },
  {
   "cell_type": "code",
   "execution_count": 81,
   "outputs": [
    {
     "data": {
      "text/plain": "[0, 1, 0, 1, 0, 1, 0, 1, 0, 1, 0]"
     },
     "execution_count": 81,
     "metadata": {},
     "output_type": "execute_result"
    }
   ],
   "source": [
    "ca_state = 0  # initial state for our zero-D CA\n",
    "def ca_0D_rule(state):\n",
    "    \"\"\" The \"state transition rule\" for computing the next CA state in next timestep.\"\"\"\n",
    "    return (state + 1) % 2\n",
    "\n",
    "# Run a simulation of the CA with given rule\n",
    "n_steps = 10                              # number of time steps to run the CA simulation\n",
    "ca_timesteps = [ca_state,]                # define a list to hold the CA state for each time step\n",
    "for t in range(n_steps):\n",
    "    ca_state = ca_0D_rule(ca_state)\n",
    "    ca_timesteps.append(ca_state)\n",
    "ca_timesteps"
   ],
   "metadata": {
    "collapsed": false,
    "pycharm": {
     "name": "#%%\n"
    },
    "ExecuteTime": {
     "end_time": "2024-01-03T02:53:20.032017Z",
     "start_time": "2024-01-03T02:53:20.022478Z"
    }
   }
  },
  {
   "cell_type": "markdown",
   "source": [
    "What is this CA's behaviour?   **It \"blinks\"!**\n",
    "\n",
    "Notice how we are using a 1-D list to capture the state of the CA over time, making it easy to visualize the behaviour arising from its rule.\n",
    "Thus, `ca_timesteps[t]` records the state of the CA at each time step `t`."
   ],
   "metadata": {
    "collapsed": false,
    "pycharm": {
     "name": "#%% md\n"
    }
   }
  },
  {
   "cell_type": "markdown",
   "source": [
    "## One-dimensional CA\n",
    "The state of a 1-D CA is represented as a vector (a list of numbers).  Each value in the CA is called a **cell**.\n",
    "As in the 0-D case, a rule defines the CA behaviour over time:  $ ca[t+1] = f( ca[t] ) $\n",
    "\n",
    "**Remember**: a 1-D CA is a **vector** representing the **state** of the CA, and a **rule** defining the **state transition** to the next timestep.  It is not more complicated than this.\n",
    "\n",
    "In the following example, the rule is:  sum up immediate neighbours and take mod 2"
   ],
   "metadata": {
    "collapsed": false,
    "pycharm": {
     "name": "#%% md\n"
    }
   }
  },
  {
   "cell_type": "code",
   "execution_count": 82,
   "outputs": [
    {
     "data": {
      "text/plain": "[[0, 0, 0, 0, 0, 1, 0, 0, 0, 0, 0],\n [0, 0, 0, 0, 1, 1, 1, 0, 0, 0, 0],\n [0, 0, 0, 1, 0, 1, 0, 1, 0, 0, 0],\n [0, 0, 1, 1, 0, 1, 0, 1, 1, 0, 0],\n [0, 1, 0, 0, 0, 1, 0, 0, 0, 1, 0],\n [0, 1, 1, 0, 1, 1, 1, 0, 1, 1, 0]]"
     },
     "execution_count": 82,
     "metadata": {},
     "output_type": "execute_result"
    }
   ],
   "source": [
    "ca_state = [0, 0, 0, 0, 0, 1, 0, 0, 0, 0, 0]   # represent state for a 1-D CA with a list of 0 / 1 values\n",
    "\n",
    "def ca_1D_rule(neighbours):\n",
    "    \"\"\" The \"state transition rule\" for computing the next CA state for one cell in the neighbourhood. \"\"\"\n",
    "    return sum(neighbours) % 2   \n",
    "\n",
    "def ca_1D_step(state):\n",
    "    \"\"\" Return next state for given CA state after one time step \"\"\"\n",
    "    next = [0]*len(state)              # an \"empty\" list to hold the next state\n",
    "    for i in range(1, len(state)-1):\n",
    "        neighbours = state[i-1:i+2]    # a `slice` operation - review this if it seems unfamiliar!\n",
    "        next[i] = ca_1D_rule(neighbours)\n",
    "    return next\n",
    "\n",
    "# Run a simulation of the CA with given rule\n",
    "def ca_1D_simulation(n_cells=11, n_steps=5):\n",
    "    \"\"\" Run an `n_step` CA simulation starting with a single 1 in middle cell of a `n_cells` sized vector  \"\"\"\n",
    "    ca_state = [0]*(n_cells//2) + [1, ] + [0]*(n_cells//2)\n",
    "    ca_timesteps = [ca_state,]     # Define a \"stack\" of vectors to hold the CA state for each time step\n",
    "    for t in range(n_steps):\n",
    "        ca_state = ca_1D_step(ca_state)\n",
    "        ca_timesteps.append(ca_state)\n",
    "    return ca_timesteps  # return an array of vectors - one CA state vector for each timestep\n",
    "ca_1D_simulation()"
   ],
   "metadata": {
    "collapsed": false,
    "pycharm": {
     "name": "#%%\n"
    },
    "ExecuteTime": {
     "end_time": "2024-01-03T02:53:20.041519Z",
     "start_time": "2024-01-03T02:53:20.036253Z"
    }
   }
  },
  {
   "cell_type": "markdown",
   "source": [
    "### Timing Tests\n",
    "Test efficiency of our simple implementation as we scale up size of CA"
   ],
   "metadata": {
    "collapsed": false
   }
  },
  {
   "cell_type": "code",
   "execution_count": 83,
   "outputs": [
    {
     "data": {
      "text/plain": "[<matplotlib.lines.Line2D at 0x1654f9f70>]"
     },
     "execution_count": 83,
     "metadata": {},
     "output_type": "execute_result"
    },
    {
     "data": {
      "text/plain": "<Figure size 640x480 with 1 Axes>",
      "image/png": "[encoded data removed]"
     },
     "metadata": {},
     "output_type": "display_data"
    }
   ],
   "source": [
    "# CA \"size\" defines both the number of cells and time steps for the CA\n",
    "ca_sizes = (11, 99, 555, 999,  1111, 1777, 2333, )\n",
    "\n",
    "timings = [\n",
    "    timeit(lambda: ca_1D_simulation(n_cells=size, n_steps=size),  number=3) \n",
    "        for size in ca_sizes\n",
    "]\n",
    "plt.plot(ca_sizes, timings)    "
   ],
   "metadata": {
    "collapsed": false,
    "ExecuteTime": {
     "end_time": "2024-01-03T02:53:26.075021Z",
     "start_time": "2024-01-03T02:53:20.056373Z"
    }
   }
  },
  {
   "cell_type": "markdown",
   "source": [
    "#### Question:\n",
    "What is the *Big-O* time complexity of the `ca_1D_simulation` algorithm?"
   ],
   "metadata": {
    "collapsed": false
   }
  },
  {
   "cell_type": "markdown",
   "source": [
    "## Visualizing the CA simulation\n",
    "A table of numbers makes it hard to visualize the CA behaviour.\n",
    "`pyplot` to the rescue!\n",
    "An image is just a rectangular grid of numbers, so any 2D matrix can be visualized as an image..."
   ],
   "metadata": {
    "collapsed": false,
    "pycharm": {
     "name": "#%% md\n"
    }
   }
  },
  {
   "cell_type": "code",
   "execution_count": 84,
   "outputs": [
    {
     "data": {
      "text/plain": "<matplotlib.image.AxesImage at 0x165460430>"
     },
     "execution_count": 84,
     "metadata": {},
     "output_type": "execute_result"
    },
    {
     "data": {
      "text/plain": "<Figure size 640x480 with 1 Axes>",
      "image/png": "[encoded data removed]"
     },
     "metadata": {},
     "output_type": "display_data"
    }
   ],
   "source": [
    "plt.imshow(ca_1D_simulation(), cmap='Blues', interpolation='none')"
   ],
   "metadata": {
    "collapsed": false,
    "pycharm": {
     "name": "#%%\n"
    },
    "ExecuteTime": {
     "end_time": "2024-01-03T02:53:26.143054Z",
     "start_time": "2024-01-03T02:53:26.083432Z"
    }
   }
  },
  {
   "cell_type": "markdown",
   "source": [
    "As usual, let's create a small, configurable abstraction to hide some of the details..."
   ],
   "metadata": {
    "collapsed": false,
    "pycharm": {
     "name": "#%% md\n"
    }
   }
  },
  {
   "cell_type": "code",
   "execution_count": 85,
   "outputs": [],
   "source": [
    "def plot_ca(array, axes=None, title='', cmap='Blues', **options):\n",
    "    \"\"\" \n",
    "    Plot the 2D array as an image on the given axes  1's will be dark blue, 0's will be light blue. \n",
    "\n",
    "    :param axes: the axes to plot on, or None to use the `plt.gca()` (current axes)\n",
    "    :param options: keyword arguments passed directly to `plt.imshow()`\n",
    "           see https://matplotlib.org/stable/api/_as_gen/matplotlib.axes.Axes.imshow.html\n",
    "    \"\"\"\n",
    "    axes = axes or plt.gca()  # If not axes are provided, draw on current axes\n",
    "    axes.set(\n",
    "        title=title,\n",
    "        ylabel='Time Steps',\n",
    "    )\n",
    "    # Turn off axes labels and tick marks\n",
    "    axes.tick_params(axis='x', which='both', bottom=False, labelbottom=False) \n",
    "    # Defaults for displaying a \"matrix\" with hard-pixel boundaries and (0,0) at top-left\n",
    "    options = {**dict(interpolation='nearest', origin='upper'), **options}\n",
    "    axes.imshow(array, cmap=cmap, **options)"
   ],
   "metadata": {
    "collapsed": false,
    "pycharm": {
     "name": "#%%\n"
    },
    "ExecuteTime": {
     "end_time": "2024-01-03T02:53:26.144529Z",
     "start_time": "2024-01-03T02:53:26.142214Z"
    }
   }
  },
  {
   "cell_type": "code",
   "execution_count": 86,
   "outputs": [
    {
     "data": {
      "text/plain": "<Figure size 640x480 with 1 Axes>",
      "image/png": "[encoded data removed]"
     },
     "metadata": {},
     "output_type": "display_data"
    }
   ],
   "source": [
    "plot_ca(ca_1D_simulation(), title=f'{n_steps} time steps of \"mod 2\" CA')"
   ],
   "metadata": {
    "collapsed": false,
    "pycharm": {
     "name": "#%%\n"
    },
    "ExecuteTime": {
     "end_time": "2024-01-03T02:53:26.232515Z",
     "start_time": "2024-01-03T02:53:26.147311Z"
    }
   }
  },
  {
   "cell_type": "markdown",
   "source": [
    "# Exploring the Elementary Cellular Automata Rule-Space\n",
    "\n",
    "For all **Elementary CA**, the rule has the form:   $ ca[i]_{t+1} = f(ca[i-1..i+1]_t) $\n",
    "In words: the next state for cell i is a function of immediate 3-cell neighbourhood.\n",
    "\n",
    "*What are all the possible computations that can be done within this limited universe?*\n",
    "\n",
    "Stephen Wolfram coined the term \"[Ruliad](https://mathworld.wolfram.com/Ruliad.html)\" to mean \"everything that is computationally possible\" within a defined universe.  In [A New Kind of Science](https://www.wolframscience.com/nks/), he explores the *Ruliad* (or rule-space) for Elementary CA's.  \n",
    "We'll repeat his now-famous computational experiments here..."
   ],
   "metadata": {
    "collapsed": false,
    "pycharm": {
     "name": "#%% md\n"
    }
   }
  },
  {
   "cell_type": "markdown",
   "source": [
    "## Counting: how many unique states for a 3-cell neighbourhood?\n",
    "Elementary CA's use a 3-cell neighbourhood, where each cell is \"on\" or \"off\".\n",
    "How many possible unique neighbourhood states are there?"
   ],
   "metadata": {
    "collapsed": false
   }
  },
  {
   "cell_type": "code",
   "execution_count": 87,
   "outputs": [
    {
     "name": "stdout",
     "output_type": "stream",
     "text": [
      "Number of unique neighbourhood states for 2 state CA with neighbourhood size 3: 8\n"
     ]
    },
    {
     "data": {
      "text/plain": "[(0, 0, 0),\n (0, 0, 1),\n (0, 1, 0),\n (0, 1, 1),\n (1, 0, 0),\n (1, 0, 1),\n (1, 1, 0),\n (1, 1, 1)]"
     },
     "execution_count": 87,
     "metadata": {},
     "output_type": "execute_result"
    }
   ],
   "source": [
    "size_of_neighbourhood = 3            # for Wolfram's set of simple CA's\n",
    "n_states_for_one_cell = 2            # on or off\n",
    "n_neighbourhood_states = n_states_for_one_cell ** size_of_neighbourhood    # 2**3 == 8\n",
    "\n",
    "print(f'Number of unique neighbourhood states for {n_states_for_one_cell} state CA with neighbourhood size {size_of_neighbourhood}: {n_neighbourhood_states}')\n",
    "\n",
    "bit = (0,1)\n",
    "all_possible_neighbourhood_states = [(i,j,k) for i in bit for j in bit for k in bit]\n",
    "all_possible_neighbourhood_states"
   ],
   "metadata": {
    "collapsed": false,
    "pycharm": {
     "name": "#%%\n"
    },
    "ExecuteTime": {
     "end_time": "2024-01-03T02:53:26.234912Z",
     "start_time": "2024-01-03T02:53:26.232786Z"
    }
   }
  },
  {
   "cell_type": "markdown",
   "source": [
    "## Binary to Decimal\n",
    "A sequence of three zero's and one's, like those that form the 3-cell \"neighbourhoods\" above, can be interpreted as a binary number in the range $[0..7]_{10}$\n",
    "We can easily convert a sequence of N bits like this to its decimal equivalent:\n",
    "$ decimal = \\sum_{i=0}^{N-1} bit_{i} \\cdot 2^i $"
   ],
   "metadata": {
    "collapsed": false,
    "pycharm": {
     "name": "#%% md\n"
    }
   }
  },
  {
   "cell_type": "code",
   "execution_count": 88,
   "outputs": [
    {
     "name": "stdout",
     "output_type": "stream",
     "text": [
      "Binary 110 == 6 Decimal\n"
     ]
    }
   ],
   "source": [
    "bin = (1, 1 , 0)\n",
    "# reverse order of powers since array is indexed from left-to-right, so high-order bit is at index 0\n",
    "powers_of_2 = [2**i for i in reversed(range(len(bin)))]\n",
    "n = sum(bit*place for bit, place in zip(bin, powers_of_2))\n",
    "print(f\"Binary {''.join(str(b) for b in bin)} == {n} Decimal\")"
   ],
   "metadata": {
    "collapsed": false,
    "pycharm": {
     "name": "#%%\n"
    },
    "ExecuteTime": {
     "end_time": "2024-01-03T02:53:26.237956Z",
     "start_time": "2024-01-03T02:53:26.236421Z"
    }
   }
  },
  {
   "cell_type": "markdown",
   "source": [
    "as usual, let's create a little abstraction around our initial binary-to-decimal algorithm up so we can test and re-use it..."
   ],
   "metadata": {
    "collapsed": false,
    "pycharm": {
     "name": "#%% md\n"
    }
   }
  },
  {
   "cell_type": "code",
   "execution_count": 89,
   "outputs": [],
   "source": [
    "def bin_to_dec1(bin):\n",
    "    \"\"\" Convert sequence of binary digits to decimal number.  bin[0] is high-order bit. \"\"\"\n",
    "    powers_of_2 = [2**i for i in reversed(range(len(bin)))]\n",
    "    return sum(bit*place for bit, place in zip(bin, powers_of_2))\n",
    "\n",
    "assert bin_to_dec1((0, 1, 1)) == 3"
   ],
   "metadata": {
    "collapsed": false,
    "pycharm": {
     "name": "#%%\n"
    },
    "ExecuteTime": {
     "end_time": "2024-01-03T02:53:26.243243Z",
     "start_time": "2024-01-03T02:53:26.238835Z"
    }
   }
  },
  {
   "cell_type": "markdown",
   "source": [
    "## Representing an Elementary CA 'rule' as a lookup table (map)\n",
    "A simple and efficient way to represent a \"rule\" for Elementary CA is as an 8-bit lookup table.  Each element of the lookup table is the \"next\" state for one of the eight possible 3-bit \"neighbourhood\"."
   ],
   "metadata": {
    "collapsed": false
   }
  },
  {
   "cell_type": "code",
   "execution_count": 90,
   "outputs": [
    {
     "data": {
      "text/plain": "'next state for centre cell of (1, 0, 0), encoded at index 4, is: 1'"
     },
     "execution_count": 90,
     "metadata": {},
     "output_type": "execute_result"
    }
   ],
   "source": [
    "rule = (0, 1, 1, 0, 1, 0, 0, 1)  # defines the same rule as `ca_rule` above: (sum of neighbours) mod 2\n",
    "neighbourhood = (1, 0, 0)\n",
    "index = bin_to_dec1(neighbourhood)\n",
    "next_state = rule[index]\n",
    "f'next state for centre cell of {neighbourhood}, encoded at index {index}, is: {next_state}'"
   ],
   "metadata": {
    "collapsed": false,
    "pycharm": {
     "name": "#%%\n"
    },
    "ExecuteTime": {
     "end_time": "2024-01-03T02:53:26.244992Z",
     "start_time": "2024-01-03T02:53:26.240466Z"
    }
   }
  },
  {
   "cell_type": "markdown",
   "source": [
    "### How does it work?\n",
    "* encode the rule as list with 8 values, each gives the next centre cell state for one of the 8 possible neighbourhood states.\n",
    "* interpret a 3-bit neighbourhood for a cell as a binary integer on $[0..7]_{10}$\n",
    "* use this as an **index** to look up the correct transition (next centre cell value) from the rule."
   ],
   "metadata": {
    "collapsed": false,
    "pycharm": {
     "name": "#%% md\n"
    }
   }
  },
  {
   "cell_type": "code",
   "execution_count": 91,
   "outputs": [
    {
     "name": "stdout",
     "output_type": "stream",
     "text": [
      "Rule 21: (1, 0, 1, 0, 1, 0, 0, 0)\n"
     ]
    },
    {
     "data": {
      "text/plain": "'next state for (1, 0, 1), encoded at index 5, is: 0'"
     },
     "execution_count": 91,
     "metadata": {},
     "output_type": "execute_result"
    }
   ],
   "source": [
    "bin_21 = (0,0,0,1,0,1,0,1)     # binary encoding for 21\n",
    "rule_21 =  bin_21[::-1]        # reversed (so low-order rule bit is at index 0)\n",
    "\n",
    "neighbourhood = (1,0,1)        # just an example - try different neighbourhood configurations to see how \"rule 21\" works\n",
    "index = bin_to_dec1(neighbourhood)\n",
    "next_state = rule_21[index]\n",
    "\n",
    "print(\"Rule 21:\", rule_21)\n",
    "f'next state for {neighbourhood}, encoded at index {index}, is: {next_state}'"
   ],
   "metadata": {
    "collapsed": false,
    "pycharm": {
     "name": "#%%\n"
    },
    "ExecuteTime": {
     "end_time": "2024-01-03T02:53:26.248045Z",
     "start_time": "2024-01-03T02:53:26.244763Z"
    }
   }
  },
  {
   "cell_type": "markdown",
   "source": [
    "## More Counting: how many rules in the rule-space?\n",
    "If a rule can be encoded with 8 \"bits\", then how many unique rules are there?"
   ],
   "metadata": {
    "collapsed": false
   }
  },
  {
   "cell_type": "code",
   "execution_count": 92,
   "outputs": [
    {
     "name": "stdout",
     "output_type": "stream",
     "text": [
      "Number of rules for 2 state CA with neighbourhood size 3: 256\n"
     ]
    },
    {
     "data": {
      "text/plain": "[(0, 0, 0, 0, 0, 0, 0, 0),\n (0, 0, 0, 0, 0, 0, 0, 1),\n (0, 0, 0, 0, 0, 0, 1, 0),\n (0, 0, 0, 0, 0, 0, 1, 1),\n (0, 0, 0, 0, 0, 1, 0, 0),\n (0, 0, 0, 0, 0, 1, 0, 1),\n (0, 0, 0, 0, 0, 1, 1, 0),\n (0, 0, 0, 0, 0, 1, 1, 1),\n (0, 0, 0, 0, 1, 0, 0, 0),\n (0, 0, 0, 0, 1, 0, 0, 1)]"
     },
     "execution_count": 92,
     "metadata": {},
     "output_type": "execute_result"
    }
   ],
   "source": [
    "n_rules = n_states_for_one_cell ** n_neighbourhood_states\n",
    "print(f'Number of rules for {n_states_for_one_cell} state CA with neighbourhood size {size_of_neighbourhood}: {n_rules}')\n",
    "\n",
    "bit = (0,1)\n",
    "rules = [(b7,b6,b5,b4,b3,b2,b1,b0)\n",
    "            for b7 in bit for b6 in bit for b5 in bit for b4 in bit for b3 in bit for b2 in bit for b1 in bit for b0 in bit\n",
    "        ]\n",
    "rules[:10]"
   ],
   "metadata": {
    "collapsed": false,
    "pycharm": {
     "name": "#%%\n"
    },
    "ExecuteTime": {
     "end_time": "2024-01-03T02:53:26.307829Z",
     "start_time": "2024-01-03T02:53:26.251466Z"
    }
   }
  },
  {
   "cell_type": "markdown",
   "source": [
    "## Naming the Elementary Cellular Automata\n",
    "Each elementary CA is named for its rule.\n",
    "Since there are 256 possible rules, these CA's are named **0** thru **255**\n",
    "The first 10 rules are show above.  To get their names, we need only convert the rule to decimal:"
   ],
   "metadata": {
    "collapsed": false,
    "pycharm": {
     "name": "#%% md\n"
    }
   }
  },
  {
   "cell_type": "code",
   "execution_count": 93,
   "outputs": [
    {
     "data": {
      "text/plain": "\"The Elementary CA's are named: [0, 1, 2, 3, 4]...[251, 252, 253, 254, 255]\""
     },
     "execution_count": 93,
     "metadata": {},
     "output_type": "execute_result"
    }
   ],
   "source": [
    "rule_names = [bin_to_dec1(rule) for rule in rules]\n",
    "f\"The Elementary CA's are named: {rule_names[:5]}...{rule_names[-5:]}\""
   ],
   "metadata": {
    "collapsed": false,
    "pycharm": {
     "name": "#%%\n"
    },
    "ExecuteTime": {
     "end_time": "2024-01-03T02:53:26.308390Z",
     "start_time": "2024-01-03T02:53:26.255354Z"
    }
   }
  },
  {
   "cell_type": "markdown",
   "source": [
    "### What is the rule number for the \"sum(neighbours) mod 2\" rule we started with?"
   ],
   "metadata": {
    "collapsed": false
   }
  },
  {
   "cell_type": "code",
   "execution_count": 94,
   "outputs": [
    {
     "name": "stdout",
     "output_type": "stream",
     "text": [
      "The \"sum(neighbours) mod 2\" rule is CA rule #150\n"
     ]
    }
   ],
   "source": [
    "rule = (0, 1, 1, 0, 1, 0, 0, 1)\n",
    "print(f'The \"sum(neighbours) mod 2\" rule is CA rule #{bin_to_dec1(rule[::-1])}')"
   ],
   "metadata": {
    "collapsed": false,
    "ExecuteTime": {
     "end_time": "2024-01-03T02:53:26.308842Z",
     "start_time": "2024-01-03T02:53:26.258170Z"
    }
   }
  },
  {
   "cell_type": "markdown",
   "source": [
    "## An Experimental Setup for exploring the Elementary CA rule-space\n",
    "Let's put all this together to re-write the CA model we developed above so we can run any of the 256 rules.\n",
    "\n",
    "We also ignored \"edge effects\" above (i.e., what happens at the edges of the CA where there is no 3 cell neighbourhood?).  We'll fix that here..."
   ],
   "metadata": {
    "collapsed": false
   }
  },
  {
   "cell_type": "code",
   "execution_count": 95,
   "outputs": [
    {
     "data": {
      "text/plain": "'Indexes to choose next state for [0, 0, 0, 0, 0, 1, 0, 0, 0, 0, 0] are: [0, 0, 0, 0, 1, 2, 4, 0, 0, 0, 0].'"
     },
     "execution_count": 95,
     "metadata": {},
     "output_type": "execute_result"
    }
   ],
   "source": [
    "def get_rule_indexes1(state):\n",
    "    \"\"\" Return list of rule indexes - one index for each 3-cell neighbourhood in CA state vector. \"\"\"\n",
    "    neighbourhoods = (state[i-1:i+2] for i in range(1,len(state)-1))\n",
    "    indexes = [ \n",
    "        bin_to_dec1(n) for n in neighbourhoods\n",
    "    ]\n",
    "    # \"Pad\"\" the CA edges to mitigate edge effects\n",
    "    left_edge = bin_to_dec1((0, state[0], state[1]))\n",
    "    right_edge = bin_to_dec1((state[-2], state[-1], 0))\n",
    "    return [left_edge, *indexes, right_edge]\n",
    "\n",
    "assert get_rule_indexes1([1,1,0,0,1,0,0,0]) == [3, 6, 4, 1, 2, 4, 0, 0]\n",
    "\n",
    "ca_state1 = [1,1,0,0,1,0,0,0]\n",
    "f'Indexes to choose next state for {ca_state} are: {get_rule_indexes1(ca_state)}.'"
   ],
   "metadata": {
    "collapsed": false,
    "ExecuteTime": {
     "end_time": "2024-01-03T02:53:26.309278Z",
     "start_time": "2024-01-03T02:53:26.262665Z"
    }
   }
  },
  {
   "cell_type": "code",
   "execution_count": 96,
   "outputs": [
    {
     "name": "stdout",
     "output_type": "stream",
     "text": [
      "[0, 1, 0, 1, 0, 1, 0, 1, 0, 0, 1]\n"
     ]
    },
    {
     "data": {
      "text/plain": "'By rule 150:  (0, 0, 1, 1, 1, 0, 0, 0, 1, 1, 0) --> [0, 1, 0, 1, 0, 1, 0, 1, 0, 0, 1]'"
     },
     "execution_count": 96,
     "metadata": {},
     "output_type": "execute_result"
    }
   ],
   "source": [
    "def ca_step1(state, rule):\n",
    "    \"\"\" return a list with the next state for given CA under the given 8-bit rule \"\"\"\n",
    "    indexes = get_rule_indexes1(state)\n",
    "    next_state = [rule[i] for i in indexes]\n",
    "    return next_state\n",
    "\n",
    "rule_150 = (1,0,0,1,0,1,1,0)[::-1]\n",
    "print(ca_step1((0,0,1,1,1,0,0,0,1,1,0), rule_150))\n",
    "assert ca_step1((0,0,1,1,1,0,0,0,1,1,0), rule_150) == [0,1,0,1,0,1,0,1,0,0,1]\n",
    "\n",
    "ca_state = (0,0,1,1,1,0,0,0,1,1,0)\n",
    "f'By rule 150:  {ca_state} --> {ca_step1(ca_state, rule_150)}'"
   ],
   "metadata": {
    "collapsed": false,
    "ExecuteTime": {
     "end_time": "2024-01-03T02:53:26.309739Z",
     "start_time": "2024-01-03T02:53:26.266916Z"
    }
   }
  },
  {
   "cell_type": "code",
   "execution_count": 97,
   "outputs": [
    {
     "data": {
      "text/plain": "<Figure size 640x480 with 1 Axes>",
      "image/png": "[encoded data removed]"
     },
     "metadata": {},
     "output_type": "display_data"
    }
   ],
   "source": [
    "# Run a simulation of the CA with given rule -- copy-paste from above, with added rule parameter\n",
    "def simulate_ca1(n_cells=11, n_steps=5, rule=rule_150):\n",
    "    \"\"\" Run an `n_step` CA simulation starting with a single 1 in middle cell of a `width` sized vector  \"\"\"\n",
    "    ca_state = [0]*(n_cells//2) + [1, ] + [0]*(n_cells//2)\n",
    "    ca_timesteps = [ca_state,]     # Define a \"stack\" of vectors to hold the CA state for each time step\n",
    "    for t in range(n_steps):\n",
    "        ca_state = ca_step1(ca_state, rule)\n",
    "        ca_timesteps.append(ca_state)\n",
    "    return ca_timesteps  # return an array of vectors - one CA state vector for each timestep\n",
    "\n",
    "plot_ca(simulate_ca1(rule=rule_150), title=f'{n_steps} time steps of CA Rule 150')"
   ],
   "metadata": {
    "collapsed": false,
    "ExecuteTime": {
     "end_time": "2024-01-03T02:53:26.361287Z",
     "start_time": "2024-01-03T02:53:26.278365Z"
    }
   }
  },
  {
   "cell_type": "markdown",
   "source": [
    "### Timing Tests\n",
    "Test efficiency of `list` implementation as we scale up size of CA"
   ],
   "metadata": {
    "collapsed": false
   }
  },
  {
   "cell_type": "code",
   "execution_count": 98,
   "outputs": [
    {
     "data": {
      "text/plain": "[<matplotlib.lines.Line2D at 0x16552b160>]"
     },
     "execution_count": 98,
     "metadata": {},
     "output_type": "execute_result"
    },
    {
     "data": {
      "text/plain": "<Figure size 640x480 with 1 Axes>",
      "image/png": "[encoded data removed]"
     },
     "metadata": {},
     "output_type": "display_data"
    }
   ],
   "source": [
    "# CA \"size\" defines both the number of cells and time steps for the CA\n",
    "ca_sizes = (11, 99, 555, 999,) # 1111, 1777, 2333, )\n",
    "\n",
    "timings = [\n",
    "    timeit(lambda: simulate_ca1(n_cells=size, n_steps=size),  number=3) \n",
    "        for size in ca_sizes\n",
    "]\n",
    "plt.plot(ca_sizes, timings)    "
   ],
   "metadata": {
    "collapsed": false,
    "ExecuteTime": {
     "end_time": "2024-01-03T02:53:30.706176Z",
     "start_time": "2024-01-03T02:53:26.418822Z"
    }
   }
  },
  {
   "cell_type": "markdown",
   "source": [
    "#### Question\n",
    "Why is the performance of `simulate_ca1` so much worse than `ca_1D_simulation`?"
   ],
   "metadata": {
    "collapsed": false
   }
  },
  {
   "cell_type": "markdown",
   "source": [
    "## Efficient Representations for Elementary Cellular Automata\n",
    "\n",
    "The problem we've encountered is that computing a CA is an $O(n^2)$ algorithm, and we are not being very efficient about each of those $n^2$ operations.\n",
    "If you trace the logic for one run of `simulate_ca1`, you will find loops within loops within loops!  Python loops, especially when they involve array indexing, are known to be **slow**.\n",
    "In addition, at the very core is `bin_to_dec1`, which does 3 exponentiation operations each time it is called!!! Worse yet, all those expensive operations compute the same thing every time.\n",
    "\n",
    "This is a classic problem when we start working with large data sets and more complex algorithms - the naive way we learned to program in COMP115 breaks down.  One core method to improve performance is though \"[vectorization](https://www.sciencedirect.com/science/article/abs/pii/S0021999111002026)\".  If we can transform our algorithm to use vector operations instead of loops, then `Numpy` can perform them very efficiently.  This is the basis for all modern AI algorithms - they would simply be too slow without vectorization.  And this performance boost is enhanced even further when run on a [GPU](https://en.wikipedia.org/wiki/Graphics_processing_unit), a specialized processor for doing vector and matrix operations. \n",
    "\n",
    "### numpy.array\n",
    "`numpy.array` is an n-dimensional numeric grid with efficient vector and matrix operations built-in.\n",
    "We can create an `array` of zeros by supplying a tuple with its dimensions, and it's data type (`dtype`):"
   ],
   "metadata": {
    "collapsed": false
   }
  },
  {
   "cell_type": "code",
   "execution_count": 99,
   "outputs": [
    {
     "name": "stdout",
     "output_type": "stream",
     "text": [
      "numpy.array has type: <class 'numpy.ndarray'> and dimensions (5, 11)\n"
     ]
    },
    {
     "data": {
      "text/plain": "array([[0, 0, 0, 0, 0, 0, 0, 0, 0, 0, 0],\n       [0, 0, 0, 0, 0, 0, 0, 0, 0, 0, 0],\n       [0, 0, 0, 0, 0, 0, 0, 0, 0, 0, 0],\n       [0, 0, 0, 0, 0, 0, 0, 0, 0, 0, 0],\n       [0, 0, 0, 0, 0, 0, 0, 0, 0, 0, 0]], dtype=uint8)"
     },
     "execution_count": 99,
     "metadata": {},
     "output_type": "execute_result"
    }
   ],
   "source": [
    "rows = 5\n",
    "cols = 11\n",
    "array = np.zeros((rows, cols), dtype=np.uint8)\n",
    "print(f'numpy.array has type: {type(array)} and dimensions {array.shape}')\n",
    "array"
   ],
   "metadata": {
    "collapsed": false,
    "pycharm": {
     "name": "#%%\n"
    },
    "ExecuteTime": {
     "end_time": "2024-01-03T02:53:30.710698Z",
     "start_time": "2024-01-03T02:53:30.707750Z"
    }
   }
  },
  {
   "cell_type": "markdown",
   "source": [
    "### Binary to Decimal revisited\n",
    "`bin_to_dec1` is computationally expensive because it computes n-1 exponentiation operations for each n-digit binary number.  This allows it to be very generic, but is wasteful for our case where we are always converting 3-digit numbers.\n",
    "\n",
    "We can make a significant efficiency improvement simply by pre-calculating the powers-of-2.\n",
    "This algorithm is less general because we need to know the max. number of digits.  But if we know, for example, we are always working 3-bit binary sequences, and we may do thousands of such computations, the performance improvement is worth the loss of generality."
   ],
   "metadata": {
    "collapsed": false
   }
  },
  {
   "cell_type": "code",
   "execution_count": 100,
   "outputs": [],
   "source": [
    "POWERS_OF_2 = np.array( (2**2, 2**1, 2**0) )  # precompute, in \"place\" order\n",
    "\n",
    "def bin_to_dec2(bin):\n",
    "    \"\"\" convert 3-digit binary sequence to decimal using pre-computed powers-of-two \"\"\"\n",
    "    assert len(bin) == len(POWERS_OF_2)   # this is the price we pay - we are limited to 3 bit numbers\n",
    "    return sum(bin[i] * POWERS_OF_2[i] for i in range(len(bin)))\n",
    "\n",
    "assert bin_to_dec2((0,1,1)) == 3"
   ],
   "metadata": {
    "collapsed": false,
    "pycharm": {
     "name": "#%%\n"
    },
    "ExecuteTime": {
     "end_time": "2024-01-03T02:53:30.713004Z",
     "start_time": "2024-01-03T02:53:30.711136Z"
    }
   }
  },
  {
   "cell_type": "markdown",
   "source": [
    "### Dot-product algorithm\n",
    "The `bin_to_dec2` algorithm sums the result of a vector multiplication:\n",
    "$ decimal = \\sum_{i=0}^{N-1} bit_i \\cdot w_i $    where $ w_i $ repesents the $ i^{th} $ power of 2\n",
    "That general algorithm is called **[dot product](https://en.wikipedia.org/wiki/Dot_product)**\n",
    "([Khan Academy](https://duckduckgo.com/?q=vector+dot+product+site%3Akhanacademy.org) has some good tutorials if you want to learn more about this fundamental concept from Linear Algebra)\n",
    "\n",
    "Let's factor out the dot-product algorithm so we can see what it looks like in general:"
   ],
   "metadata": {
    "collapsed": false
   }
  },
  {
   "cell_type": "code",
   "execution_count": 101,
   "outputs": [],
   "source": [
    "def dot_product1(a, w):\n",
    "    \"\"\" return the dot product of vectors a and w, to length of w \"\"\"\n",
    "    return sum(a[i]*w[i] for i in range(len(w)))\n",
    "\n",
    "assert dot_product1((0,1,1), (4,2,1)) == 3\n",
    "\n",
    "def bin_to_dec3(bin):\n",
    "    \"\"\" convert 3-digit binary sequence to decimal using dot-product with powers-of-two \"\"\"\n",
    "    assert len(bin) == len(POWERS_OF_2)\n",
    "    return dot_product1(bin, POWERS_OF_2)\n",
    "\n",
    "assert bin_to_dec3((0,1,1)) == 3"
   ],
   "metadata": {
    "collapsed": false,
    "pycharm": {
     "name": "#%%\n"
    },
    "ExecuteTime": {
     "end_time": "2024-01-03T02:53:30.717193Z",
     "start_time": "2024-01-03T02:53:30.713889Z"
    }
   }
  },
  {
   "cell_type": "markdown",
   "source": [
    "### Vector Multiplication with numpy.array\n",
    "We can completely remove the loop at the heart of `dot_product` by *vectorizing* the operation...\n",
    "\n",
    "`numpy.array` defines vector multiplication.\n",
    "So, if we assume the input for `dot_product` is a `numpy.array`, the code can be written as a vector operation.  And based on that we can write our final, efficient version of `bin_to_dec`:"
   ],
   "metadata": {
    "collapsed": false,
    "pycharm": {
     "name": "#%% md\n"
    }
   }
  },
  {
   "cell_type": "code",
   "execution_count": 102,
   "outputs": [],
   "source": [
    "def dot_product(a, w):\n",
    "    \"\"\" return the dot product of numpy.array a and vector w, to length of w \"\"\"\n",
    "    return np.sum(a * w)\n",
    "\n",
    "assert dot_product(np.array((0,1,1)), (4,2,1)) == 3\n",
    "\n",
    "def bin_to_dec(bin):\n",
    "    \"\"\" convert 3-digit binary sequence to decimal using dot-product with powers-of-two \"\"\"\n",
    "    assert len(bin) == len(POWERS_OF_2)\n",
    "    return dot_product(bin, POWERS_OF_2)\n",
    "\n",
    "assert bin_to_dec((0,1,1)) == 3"
   ],
   "metadata": {
    "collapsed": false,
    "pycharm": {
     "name": "#%%\n"
    },
    "ExecuteTime": {
     "end_time": "2024-01-03T02:53:30.718932Z",
     "start_time": "2024-01-03T02:53:30.716977Z"
    }
   }
  },
  {
   "cell_type": "markdown",
   "source": [
    "### Sliding Dot Product\n",
    "`dot_product` provides a vector solution for the `bin_to_dec` algorithm.  However, the `get_rule_indexes` algorithm still performs array indexing inside a loop.\n",
    "\n",
    "Notice that this algorithm takes a vector as input and produces a vector of the same size as output.\n",
    "\n",
    "We need a vector algorithm that will \"slide\" the `dot_product` algorithm along the vector, producing the output vector in a single operation.\n",
    "This is called the [\"sliding dot product\" algorithm]() and is an example of a [sliding-window technique](https://www.geeksforgeeks.org/window-sliding-technique/).\n",
    "\n",
    "Note: in continuous systems, like signal processing, the \"sliding dot product\" algorithm is called **[cross correlation](https://en.wikipedia.org/wiki/Cross-correlation)**\n",
    "Thus, in `numpy` this operation is named **[correlate](https://numpy.org/doc/stable/reference/generated/numpy.correlate.html)**\n",
    "\n",
    " * Tip: we use `np.pad(array, n, mode='constant')` to pad array with `n` zeros on either end, or `mode='wrap'` to \"wrap\" the array ends."
   ],
   "metadata": {
    "collapsed": false
   }
  },
  {
   "cell_type": "code",
   "execution_count": 103,
   "outputs": [
    {
     "data": {
      "text/plain": "'Indexes to choose next state for [1 1 0 0 1 0 0 0] are: [3 6 4 1 2 4 0 0].'"
     },
     "execution_count": 103,
     "metadata": {},
     "output_type": "execute_result"
    }
   ],
   "source": [
    "def get_rule_indexes(state):\n",
    "    \"\"\" Return vector of rule indexes - one index for each 3-cell neighbourhood in the CA state vector. \"\"\"\n",
    "    # numpy's version of the \"sliding dot product\" algorithm;  \n",
    "    # \"pad\" ends of state array with extra 0 cell to mitigate edge effects\n",
    "    return np.correlate(np.pad(state, 1, mode='constant'), POWERS_OF_2, mode='valid')\n",
    "\n",
    "assert all( get_rule_indexes(np.array([1,1,0,0,1,0,0,0])) == [3, 6, 4, 1, 2, 4, 0, 0] )\n",
    "\n",
    "ca_state = np.array([1,1,0,0,1,0,0,0])\n",
    "f'Indexes to choose next state for {ca_state} are: {get_rule_indexes(ca_state)}.'"
   ],
   "metadata": {
    "collapsed": false,
    "pycharm": {
     "name": "#%%\n"
    },
    "ExecuteTime": {
     "end_time": "2024-01-03T02:53:30.723378Z",
     "start_time": "2024-01-03T02:53:30.720467Z"
    }
   }
  },
  {
   "cell_type": "markdown",
   "source": [
    "## Vector Indexing\n",
    "Finally, we need to vectorize the `ca_step` algorithm, which also performs array indexing in a loop.\n",
    "\n",
    "This algorithm needs to do the \"lookup\" in the `rule` vector to get the state transition for each cell.\n",
    "`np.array` does \"vector indexing\", making it very easy to vectorize this algorithm too..."
   ],
   "metadata": {
    "collapsed": false
   }
  },
  {
   "cell_type": "code",
   "execution_count": 104,
   "outputs": [
    {
     "data": {
      "text/plain": "'By rule 110:  [0 0 1 1 1 0 0 0 1 1 0] --> [0 1 0 1 0 1 0 1 0 0 1]'"
     },
     "execution_count": 104,
     "metadata": {},
     "output_type": "execute_result"
    }
   ],
   "source": [
    "def ca_step(state, rule):\n",
    "    \"\"\" Return the vector resulting from a transition of given CA state under the given 8-bit rule \"\"\"\n",
    "    indexes = get_rule_indexes(state)\n",
    "    return rule[indexes]  # \"vector indexing\" replaces: [rule[i] for i in indexes]\n",
    "\n",
    "rule_150 = np.array((1,0,0,1,0,1,1,0)[::-1])\n",
    "\n",
    "ca_state = np.array((0,0,1,1,1,0,0,0,1,1,0))\n",
    "f'By rule 110:  {ca_state} --> {ca_step(ca_state, rule_150)}'"
   ],
   "metadata": {
    "collapsed": false,
    "pycharm": {
     "name": "#%%\n"
    },
    "ExecuteTime": {
     "end_time": "2024-01-03T02:53:30.726468Z",
     "start_time": "2024-01-03T02:53:30.724417Z"
    }
   }
  },
  {
   "cell_type": "markdown",
   "source": [
    "## Exploring the Elementary CA Ruliad\n",
    " We now have the foundation to simulate ANY of Wolfram's elementary CA's efficiently, with any of the 256 rules defined as an 8-bit lookup table.\n",
    "Last step is just to package this up in a re-usable function..."
   ],
   "metadata": {
    "collapsed": false
   }
  },
  {
   "cell_type": "code",
   "execution_count": 105,
   "outputs": [
    {
     "data": {
      "text/plain": "<Figure size 640x480 with 1 Axes>",
      "image/png": "[encoded data removed]"
     },
     "metadata": {},
     "output_type": "display_data"
    }
   ],
   "source": [
    "def simulate_ca(n_cells, n_steps, rule):\n",
    "    \"\"\"\n",
    "    Generate \"classic\" Elementary CA with given number of cells,\n",
    "    simulating progression of given rule for the given number of time steps.\n",
    "    return a 2D array with CA state for 1 time step in each row.\n",
    "    \"\"\"\n",
    "    array = np.zeros((n_steps, n_cells), dtype=np.uint8)  # an array of cells for each timestep\n",
    "    array[0, n_cells//2] = 1                              # place a 1 in middle of initial state\n",
    "    for t in range(1, n_steps):\n",
    "        array[t] = ca_step(array[t-1], rule)\n",
    "    return array\n",
    "\n",
    "ca_timesteps = simulate_ca(200, 100, rule_150)\n",
    "plot_ca(ca_timesteps, title=f'{n_steps} time steps of CA Rule 150')"
   ],
   "metadata": {
    "collapsed": false,
    "pycharm": {
     "name": "#%%\n"
    },
    "ExecuteTime": {
     "end_time": "2024-01-03T02:53:30.816749Z",
     "start_time": "2024-01-03T02:53:30.727529Z"
    }
   }
  },
  {
   "cell_type": "markdown",
   "source": [
    "### Timing Tests\n",
    "Test efficiency of `np.array` implementation as we scale up size of CA"
   ],
   "metadata": {
    "collapsed": false
   }
  },
  {
   "cell_type": "code",
   "execution_count": 106,
   "outputs": [
    {
     "data": {
      "text/plain": "[<matplotlib.lines.Line2D at 0x16559c790>]"
     },
     "execution_count": 106,
     "metadata": {},
     "output_type": "execute_result"
    },
    {
     "data": {
      "text/plain": "<Figure size 640x480 with 1 Axes>",
      "image/png": "[encoded data removed]"
     },
     "metadata": {},
     "output_type": "display_data"
    }
   ],
   "source": [
    "# CA \"size\" defines both the number of time steps and width of CA\n",
    "ca_sizes = (11, 99, 555, 999, 1111, 1777, 2333,)\n",
    "\n",
    "timings = [\n",
    "    timeit(lambda: simulate_ca(n_cells=size, n_steps=size, rule=rule_150), number=3)\n",
    "    for size in ca_sizes\n",
    "]\n",
    "plt.plot(ca_sizes, timings)"
   ],
   "metadata": {
    "collapsed": false,
    "ExecuteTime": {
     "end_time": "2024-01-03T02:53:31.199941Z",
     "start_time": "2024-01-03T02:53:30.816054Z"
    }
   }
  },
  {
   "cell_type": "markdown",
   "source": [
    "#### Question\n",
    "By what factor did vectorizing the algorithm logic improve performance?"
   ],
   "metadata": {
    "collapsed": false
   }
  },
  {
   "cell_type": "code",
   "execution_count": 106,
   "outputs": [],
   "source": [],
   "metadata": {
    "collapsed": false,
    "ExecuteTime": {
     "end_time": "2024-01-03T02:53:31.200573Z",
     "start_time": "2024-01-03T02:53:31.197628Z"
    }
   }
  }
 ]
}
