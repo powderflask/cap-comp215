{
 "cells": [
  {
   "cell_type": "markdown",
   "source": [
    "### Visualizing a 2D simulation model\n",
    "To visualize a 2D matrix changing over time we can use a simple 2D [\"stop motion\" animation](https://en.wikipedia.org/wiki/Animation).\n",
    "Luckily, `matplotlib` makes animating a 2D plot fairly straight-forward.\n",
    "\n",
    "Here is a generic class that animates any 2D model that provides step() and draw() methods, and uses matplotlib to render its state.\n",
    "It provides methods to `animate()` the model directly in the output display or `show()` the animation in an interactive viewer.\n",
    "\n",
    "See [Matplotlib animation in Jupyter](https://www.allendowney.com/blog/2019/07/25/matplotlib-animation-in-jupyter/) by our textbook author for a discussion of the pros and cons of various animation techniques in jupyter notebooks."
   ],
   "metadata": {
    "collapsed": false
   },
   "id": "7168483ab893cdd"
  },
  {
   "cell_type": "code",
   "execution_count": 1,
   "outputs": [],
   "source": [
    "%matplotlib inline\n",
    "\n",
    "import time\n",
    "from typing import Protocol\n",
    "\n",
    "import matplotlib\n",
    "import matplotlib.pyplot as plt\n",
    "from matplotlib import animation\n",
    "import numpy as np\n",
    "\n",
    "# Configure matplotlib's animation library to work in the browser.\n",
    "matplotlib.rc('animation', html='jshtml')"
   ],
   "metadata": {
    "collapsed": false,
    "ExecuteTime": {
     "end_time": "2024-02-06T18:28:11.756382Z",
     "start_time": "2024-02-06T18:28:10.740358Z"
    }
   },
   "id": "67317fba64da38f0"
  },
  {
   "cell_type": "code",
   "execution_count": 2,
   "outputs": [],
   "source": [
    "class Simulation(Protocol):\n",
    "    \"\"\" A Simulation is any object that provides methods to step() and draw() itself. \"\"\"\n",
    "    def step(self) -> None:\n",
    "        \"\"\" Step the simulation model forward \"\"\"\n",
    "        ...\n",
    "    def draw(self, axes, step:str) -> None:\n",
    "        \"\"\" Draw the current model state on the given axes.  Current simulation step is provided for label \"\"\""
   ],
   "metadata": {
    "collapsed": false,
    "ExecuteTime": {
     "end_time": "2024-02-06T18:28:11.759395Z",
     "start_time": "2024-02-06T18:28:11.757995Z"
    }
   },
   "id": "fff9108afdd44d16"
  },
  {
   "cell_type": "code",
   "execution_count": 3,
   "outputs": [],
   "source": [
    "class Animation2D:\n",
    "    \"\"\"\n",
    "      Animates any 2D model with a step() method and a draw() method, using matplotlib\n",
    "      model.step() should take no parameters - just step the model forward one step.\n",
    "      model.draw() should take 2 parameters, the matpltolib axes to draw on and an integer step number\n",
    "\n",
    "      See https://www.allendowney.com/blog/2019/07/25/matplotlib-animation-in-jupyter/\n",
    "          for a discussion of the pros and cons of various animation techniques in jupyter notebooks\n",
    "    \"\"\"\n",
    "\n",
    "    def __init__(self, model:Simulation, frames=50, steps_per_frame=1, figsize=(8, 8)):\n",
    "        \"\"\"\n",
    "        :param model: the simulation object to animate, with step() and draw(axes, step) methods\n",
    "        :param frames: number of animation frames to generate\n",
    "        \"\"\"\n",
    "        self.model = model\n",
    "        self.frames = frames\n",
    "        self.steps_per_frame = steps_per_frame\n",
    "        self.fig, self.ax = plt.subplots(figsize=figsize)\n",
    "\n",
    "    def animation_step(self, step):\n",
    "        \"\"\" Step the model forward and draw the plot \"\"\"\n",
    "        if step > 0:\n",
    "            for _ in range(self.steps_per_frame):\n",
    "                self.model.step()\n",
    "        self.model.draw(self.ax, step=step * self.steps_per_frame)\n",
    "\n",
    "    def show(self):\n",
    "        \"\"\" return the matplotlib animation object, ready for display \"\"\"\n",
    "        anim = animation.FuncAnimation(self.fig, self.animation_step, frames=self.frames)\n",
    "        plt.close()  # this ensures the last frame is not shown as a separate plot\n",
    "        return anim\n",
    "\n",
    "    def animate(self, interval=None):\n",
    "        \"\"\" Animate the model simulation directly in the notebook display block \"\"\"\n",
    "        from IPython.display import clear_output\n",
    "        try:\n",
    "            for i in range(self.frames):\n",
    "                clear_output(wait=True)  # clear the IPython display\n",
    "                self.ax.clear()  # clear old image from the axes (fixes a performance issue)\n",
    "                plt.figure(self.fig)  # add the figure back to pyplot ** sigh **\n",
    "                self.animation_step(i)\n",
    "                plt.show()  # show the current animation frame (pyplot then closes and throws away figure ** sigh **)\n",
    "                if interval:\n",
    "                    time.sleep(interval)\n",
    "        except KeyboardInterrupt:\n",
    "            pass"
   ],
   "metadata": {
    "collapsed": false,
    "ExecuteTime": {
     "end_time": "2024-02-06T18:28:11.763850Z",
     "start_time": "2024-02-06T18:28:11.762132Z"
    }
   },
   "id": "665451acf141aa59"
  },
  {
   "cell_type": "code",
   "execution_count": 4,
   "outputs": [],
   "source": [
    "# Copy-pasted from 01-data-visualization notebook.\n",
    "\n",
    "def plot_2d_array(array, axes=None, title='', cmap='viridis', **options):\n",
    "    \"\"\" \n",
    "    Plot the 2D array as an image on the given axes  1's will be dark blue, 0's will be light blue. \n",
    "\n",
    "    :param axes: the axes to plot on, or None to use the `plt.gca()` (current axes)\n",
    "    :param options: keyword arguments passed directly to `plt.imshow()`\n",
    "           see https://matplotlib.org/stable/api/_as_gen/matplotlib.axes.Axes.imshow.html\n",
    "    \"\"\"\n",
    "    axes = axes or plt.gca()  # If not axes are provided, draw on current axes\n",
    "    axes.set_title(title)\n",
    "    # Turn off axes labels and tick marks\n",
    "    axes.tick_params(axis='both', which='both', bottom=False, top=False, left=False, right=False,\n",
    "                     labelbottom=False, labeltop=False, labelleft=False, labelright=False, )\n",
    "    # Defaults for displaying a \"matrix\" with hard-pixel boundaries and (0,0) at top-left\n",
    "    options = {**dict(interpolation='nearest', origin='upper'), **options}\n",
    "    axes.imshow(array, cmap=cmap, **options)\n"
   ],
   "metadata": {
    "collapsed": false,
    "ExecuteTime": {
     "end_time": "2024-02-06T18:28:11.767292Z",
     "start_time": "2024-02-06T18:28:11.765621Z"
    }
   },
   "id": "8f45873a2b79c096"
  },
  {
   "cell_type": "code",
   "execution_count": 5,
   "outputs": [],
   "source": [
    "# Sample \"best practices\" for producing an animation of a simulation model\n",
    "\n",
    "class RandomModel:\n",
    "    \"\"\" An 2D matrix where each cell grows and or dies back at random \"\"\"\n",
    "\n",
    "    def __init__(self, n_rows, n_cols=None):\n",
    "        \"\"\" Construct a n_rows x n_cols 2D CA \"\"\"\n",
    "        n_cols = n_cols or n_rows  # i.e., n_cols if n_cols is not None and n_cols != 0 else n_rows\n",
    "        self.state = np.random.randint(-5, 5, size=(n_rows, n_cols), dtype=np.int8)\n",
    "\n",
    "    def step(self):\n",
    "        \"\"\"Executes one time step. \"\"\"\n",
    "        growth = np.random.randint(-2, 2, size=self.state.shape, dtype=self.state.dtype)\n",
    "        self.state = self.state + growth\n",
    "\n",
    "    def draw(self, axes=None, step=''):\n",
    "        axes = axes or plt.gca()\n",
    "        plot_2d_array(self.state, axes, f\"Random fluctuations at step {step}\")\n",
    "        \n",
    "anim = Animation2D(model=RandomModel(100))\n",
    "anim.show()"
   ],
   "metadata": {
    "collapsed": false,
    "ExecuteTime": {
     "end_time": "2024-02-06T18:28:30.607359Z",
     "start_time": "2024-02-06T18:28:11.774412Z"
    }
   },
   "id": "2bfe6c2037dfd2f3"
  },
  {
   "cell_type": "code",
   "execution_count": null,
   "outputs": [],
   "source": [],
   "metadata": {
    "collapsed": false,
    "is_executing": true
   },
   "id": "207f97dacc633617"
  }
 ],
 "metadata": {
  "kernelspec": {
   "display_name": "Python 3",
   "language": "python",
   "name": "python3"
  },
  "language_info": {
   "codemirror_mode": {
    "name": "ipython",
    "version": 2
   },
   "file_extension": ".py",
   "mimetype": "text/x-python",
   "name": "python",
   "nbconvert_exporter": "python",
   "pygments_lexer": "ipython2",
   "version": "2.7.6"
  }
 },
 "nbformat": 4,
 "nbformat_minor": 5
}
