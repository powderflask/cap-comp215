{
 "nbformat": 4,
 "nbformat_minor": 0,
 "metadata": {
  "kernelspec": {
   "display_name": "Python 3",
   "language": "python",
   "name": "python3"
  },
  "language_info": {
   "codemirror_mode": {
    "name": "ipython",
    "version": 2
   },
   "file_extension": ".py",
   "mimetype": "text/x-python",
   "name": "python",
   "nbconvert_exporter": "python",
   "pygments_lexer": "ipython2",
   "version": "2.7.6"
  }
 },
 "cells": [
  {
   "cell_type": "markdown",
   "source": [
    "COMP 215 - LAB 2 Records (NEO)\n",
    "----------------\n",
    "#### Name:\n",
    "#### Date:\n",
    "\n",
    "This lab exercise is mostly a review of strings, tuples, lists, dictionaries, and functions.\n",
    "\n",
    "**Building on new concepts from lab 1**:\n",
    "  * `datetime.date` objects represent a calendar date\n",
    "  * *list comprehension* provides a compact way to represent map and filter algorithms\n",
    "\n",
    "**New Python Concepts**:\n",
    "  * *f-string* simplifies string formatting operations\n",
    "\n",
    "As usual, the first code cell simply imports all the modules we'll be using..."
   ],
   "metadata": {
    "id": "nbRPZPKZU5Pk"
   }
  },
  {
   "cell_type": "code",
   "execution_count": 4,
   "outputs": [],
   "source": [
    "import datetime, json, requests\n",
    "from pprint import pprint    # Pretty Print - built-in python function to nicely format data structures"
   ],
   "metadata": {
    "collapsed": false,
    "pycharm": {
     "name": "#%%\n"
    },
    "ExecuteTime": {
     "end_time": "2024-01-17T00:18:54.716182Z",
     "start_time": "2024-01-17T00:18:54.699118Z"
    }
   }
  },
  {
   "cell_type": "markdown",
   "source": [
    "We'll answer some questions about [Near Earth Objects](https://cneos.jpl.nasa.gov/)\n",
    "> using NASA's API:  [https://api.nasa.gov/](https://api.nasa.gov/#NeoWS)\n",
    "\n",
    "You should register for your own API key, (but may use the DEMO_KEY to get started).\n",
    "\n",
    "First, a short reminder about python dates and [f-strings](https://realpython.com/python-f-strings/)..."
   ],
   "metadata": {
    "collapsed": false,
    "pycharm": {
     "name": "#%% md\n"
    }
   }
  },
  {
   "cell_type": "code",
   "execution_count": 5,
   "outputs": [
    {
     "name": "stdout",
     "output_type": "stream",
     "text": [
      "2024-01-16 <class 'datetime.date'>\n",
      "Today is: 2024-01-16\n"
     ]
    }
   ],
   "source": [
    "today = datetime.date.today()   # get a date object representing today's date\n",
    "print(today, type(today))\n",
    "# f\"...\"  is a format string - notice how the variable `today` is formatted into the string\n",
    "print(f'Today is: {today}')"
   ],
   "metadata": {
    "collapsed": false,
    "pycharm": {
     "name": "#%%\n"
    },
    "ExecuteTime": {
     "end_time": "2024-01-17T00:18:54.757981Z",
     "start_time": "2024-01-17T00:18:54.724703Z"
    }
   }
  },
  {
   "cell_type": "markdown",
   "source": [
    "### Make a query\n",
    "\n",
    "Let's get some data from the NEO database...\n",
    "Here's a query that gets the observation \"feed\" for today.\n",
    "(Note: I hard-coded the date below to lock down the data for the lab - ideally used `today()` so the notebook is always up-to-date.)"
   ],
   "metadata": {
    "collapsed": false,
    "pycharm": {
     "name": "#%% md\n"
    }
   }
  },
  {
   "cell_type": "code",
   "execution_count": 6,
   "outputs": [
    {
     "name": "stdout",
     "output_type": "stream",
     "text": [
      "13 Near Earth Objects found for 2023-01-09\n",
      "[{'absolute_magnitude_h': 19.63,\n",
      "  'close_approach_data': [{'close_approach_date': '2023-01-09',\n",
      "                           'close_approach_date_full': '2023-Jan-09 13:59',\n",
      "                           'epoch_date_close_approach': 1673272740000,\n",
      "                           'miss_distance': {'astronomical': '0.0725378025',\n",
      "                                             'kilometers': '10851500.748480675',\n",
      "                                             'lunar': '28.2172051725',\n",
      "                                             'miles': '6742809.896856315'},\n",
      "                           'orbiting_body': 'Earth',\n",
      "                           'relative_velocity': {'kilometers_per_hour': '32387.3439078662',\n",
      "                                                 'kilometers_per_second': '8.9964844189',\n",
      "                                                 'miles_per_hour': '20124.2359965294'}}],\n",
      "  'estimated_diameter': {'feet': {'estimated_diameter_max': 2312.1980468998,\n",
      "                                  'estimated_diameter_min': 1034.046402062},\n",
      "                         'kilometers': {'estimated_diameter_max': 0.7047579421,\n",
      "                                        'estimated_diameter_min': 0.3151773333},\n",
      "                         'meters': {'estimated_diameter_max': 704.7579421428,\n",
      "                                    'estimated_diameter_min': 315.1773332628},\n",
      "                         'miles': {'estimated_diameter_max': 0.4379161473,\n",
      "                                   'estimated_diameter_min': 0.1958420547}},\n",
      "  'id': '2226554',\n",
      "  'is_potentially_hazardous_asteroid': True,\n",
      "  'is_sentry_object': False,\n",
      "  'links': {'self': 'http://api.nasa.gov/neo/rest/v1/neo/2226554?api_key=DEMO_KEY'},\n",
      "  'name': '226554 (2003 WR21)',\n",
      "  'nasa_jpl_url': 'https://ssd.jpl.nasa.gov/tools/sbdb_lookup.html#/?sstr=2226554',\n",
      "  'neo_reference_id': '2226554'},\n",
      " {'absolute_magnitude_h': 20.64,\n",
      "  'close_approach_data': [{'close_approach_date': '2023-01-09',\n",
      "                           'close_approach_date_full': '2023-Jan-09 16:33',\n",
      "                           'epoch_date_close_approach': 1673281980000,\n",
      "                           'miss_distance': {'astronomical': '0.2884780256',\n",
      "                                             'kilometers': '43155698.171565472',\n",
      "                                             'lunar': '112.2179519584',\n",
      "                                             'miles': '26815707.3829366336'},\n",
      "                           'orbiting_body': 'Earth',\n",
      "                           'relative_velocity': {'kilometers_per_hour': '30014.439575393',\n",
      "                                                 'kilometers_per_second': '8.3373443265',\n",
      "                                                 'miles_per_hour': '18649.8055239435'}}],\n",
      "  'estimated_diameter': {'feet': {'estimated_diameter_max': 1452.1953105872,\n",
      "                                  'estimated_diameter_min': 649.4414862159},\n",
      "                         'kilometers': {'estimated_diameter_max': 0.4426291165,\n",
      "                                        'estimated_diameter_min': 0.1979497587},\n",
      "                         'meters': {'estimated_diameter_max': 442.6291165029,\n",
      "                                    'estimated_diameter_min': 197.9497586642},\n",
      "                         'miles': {'estimated_diameter_max': 0.2750368968,\n",
      "                                   'estimated_diameter_min': 0.1230002395}},\n",
      "  'id': '2307070',\n",
      "  'is_potentially_hazardous_asteroid': False,\n",
      "  'is_sentry_object': False,\n",
      "  'links': {'self': 'http://api.nasa.gov/neo/rest/v1/neo/2307070?api_key=DEMO_KEY'},\n",
      "  'name': '307070 (2002 AV31)',\n",
      "  'nasa_jpl_url': 'https://ssd.jpl.nasa.gov/tools/sbdb_lookup.html#/?sstr=2307070',\n",
      "  'neo_reference_id': '2307070'},\n",
      " {'absolute_magnitude_h': 18.35,\n",
      "  'close_approach_data': [{'close_approach_date': '2023-01-09',\n",
      "                           'close_approach_date_full': '2023-Jan-09 01:00',\n",
      "                           'epoch_date_close_approach': 1673226000000,\n",
      "                           'miss_distance': {'astronomical': '0.3628966736',\n",
      "                                             'kilometers': '54288569.400645232',\n",
      "                                             'lunar': '141.1668060304',\n",
      "                                             'miles': '33733352.7892069216'},\n",
      "                           'orbiting_body': 'Earth',\n",
      "                           'relative_velocity': {'kilometers_per_hour': '88002.0997277573',\n",
      "                                                 'kilometers_per_second': '24.4450277022',\n",
      "                                                 'miles_per_hour': '54681.0824669501'}}],\n",
      "  'estimated_diameter': {'feet': {'estimated_diameter_max': 4168.9340989411,\n",
      "                                  'estimated_diameter_min': 1864.4040077898},\n",
      "                         'kilometers': {'estimated_diameter_max': 1.2706910727,\n",
      "                                        'estimated_diameter_min': 0.5682703234},\n",
      "                         'meters': {'estimated_diameter_max': 1270.6910726951,\n",
      "                                    'estimated_diameter_min': 568.2703233897},\n",
      "                         'miles': {'estimated_diameter_max': 0.7895705825,\n",
      "                                   'estimated_diameter_min': 0.3531066991}},\n",
      "  'id': '2436325',\n",
      "  'is_potentially_hazardous_asteroid': False,\n",
      "  'is_sentry_object': False,\n",
      "  'links': {'self': 'http://api.nasa.gov/neo/rest/v1/neo/2436325?api_key=DEMO_KEY'},\n",
      "  'name': '436325 (2010 GR7)',\n",
      "  'nasa_jpl_url': 'https://ssd.jpl.nasa.gov/tools/sbdb_lookup.html#/?sstr=2436325',\n",
      "  'neo_reference_id': '2436325'},\n",
      " {'absolute_magnitude_h': 20.95,\n",
      "  'close_approach_data': [{'close_approach_date': '2023-01-09',\n",
      "                           'close_approach_date_full': '2023-Jan-09 03:25',\n",
      "                           'epoch_date_close_approach': 1673234700000,\n",
      "                           'miss_distance': {'astronomical': '0.1211166399',\n",
      "                                             'kilometers': '18118791.350597013',\n",
      "                                             'lunar': '47.1143729211',\n",
      "                                             'miles': '11258494.8819162594'},\n",
      "                           'orbiting_body': 'Earth',\n",
      "                           'relative_velocity': {'kilometers_per_hour': '22658.3665761987',\n",
      "                                                 'kilometers_per_second': '6.2939907156',\n",
      "                                                 'miles_per_hour': '14079.0278317497'}}],\n",
      "  'estimated_diameter': {'feet': {'estimated_diameter_max': 1258.997970434,\n",
      "                                  'estimated_diameter_min': 563.0410090849},\n",
      "                         'kilometers': {'estimated_diameter_max': 0.3837425691,\n",
      "                                        'estimated_diameter_min': 0.1716148941},\n",
      "                         'meters': {'estimated_diameter_max': 383.7425691085,\n",
      "                                    'estimated_diameter_min': 171.6148940774},\n",
      "                         'miles': {'estimated_diameter_max': 0.2384465039,\n",
      "                                   'estimated_diameter_min': 0.1066365183}},\n",
      "  'id': '2508908',\n",
      "  'is_potentially_hazardous_asteroid': True,\n",
      "  'is_sentry_object': False,\n",
      "  'links': {'self': 'http://api.nasa.gov/neo/rest/v1/neo/2508908?api_key=DEMO_KEY'},\n",
      "  'name': '508908 (2003 YX1)',\n",
      "  'nasa_jpl_url': 'https://ssd.jpl.nasa.gov/tools/sbdb_lookup.html#/?sstr=2508908',\n",
      "  'neo_reference_id': '2508908'},\n",
      " {'absolute_magnitude_h': 21.42,\n",
      "  'close_approach_data': [{'close_approach_date': '2023-01-09',\n",
      "                           'close_approach_date_full': '2023-Jan-09 07:10',\n",
      "                           'epoch_date_close_approach': 1673248200000,\n",
      "                           'miss_distance': {'astronomical': '0.4928732055',\n",
      "                                             'kilometers': '73732781.722872285',\n",
      "                                             'lunar': '191.7276769395',\n",
      "                                             'miles': '45815426.073056133'},\n",
      "                           'orbiting_body': 'Earth',\n",
      "                           'relative_velocity': {'kilometers_per_hour': '121198.8588141982',\n",
      "                                                 'kilometers_per_second': '33.6663496706',\n",
      "                                                 'miles_per_hour': '75308.2575781889'}}],\n",
      "  'estimated_diameter': {'feet': {'estimated_diameter_max': 1013.9698229009,\n",
      "                                  'estimated_diameter_min': 453.461090228},\n",
      "                         'kilometers': {'estimated_diameter_max': 0.3090579921,\n",
      "                                        'estimated_diameter_min': 0.1382149359},\n",
      "                         'meters': {'estimated_diameter_max': 309.0579921303,\n",
      "                                    'estimated_diameter_min': 138.2149358786},\n",
      "                         'miles': {'estimated_diameter_max': 0.1920396736,\n",
      "                                   'estimated_diameter_min': 0.0858827529}},\n",
      "  'id': '3014110',\n",
      "  'is_potentially_hazardous_asteroid': True,\n",
      "  'is_sentry_object': False,\n",
      "  'links': {'self': 'http://api.nasa.gov/neo/rest/v1/neo/3014110?api_key=DEMO_KEY'},\n",
      "  'name': '(1998 SU4)',\n",
      "  'nasa_jpl_url': 'https://ssd.jpl.nasa.gov/tools/sbdb_lookup.html#/?sstr=3014110',\n",
      "  'neo_reference_id': '3014110'}]\n"
     ]
    }
   ],
   "source": [
    "API_KEY = 'DEMO_KEY'  # substitute your API key here\n",
    "\n",
    "today = '2023-01-09'  #  Future enhancement:  str(datetime.date.today())   # Today's date as a string!\n",
    "# Use an f-string here to \"format\" the date and API key varaibles.\n",
    "url = f'https://api.nasa.gov/neo/rest/v1/feed?start_date={today}&end_date={today}&api_key={API_KEY}'\n",
    "\n",
    "response = requests.request(\"GET\", url, headers={}, data={})\n",
    "\n",
    "feed_data = json.loads(response.text)  # recall json.loads from lab 1\n",
    "\n",
    "# TIP: print(data) to see the whole data structure returned, here we grab just the list of NEO's:\n",
    "n_results = feed_data['element_count']\n",
    "neos = feed_data['near_earth_objects'][today]\n",
    "print(f'{n_results} Near Earth Objects found for {today}')\n",
    "pprint(neos[:5])"
   ],
   "metadata": {
    "collapsed": false,
    "pycharm": {
     "name": "#%%\n"
    },
    "ExecuteTime": {
     "end_time": "2024-01-17T00:18:59.039327Z",
     "start_time": "2024-01-17T00:18:54.741225Z"
    }
   }
  },
  {
   "cell_type": "markdown",
   "source": [
    "Next we extract just the potentially hazerdous asteroids, using a Comp115-style list accumulator *loop*:"
   ],
   "metadata": {
    "collapsed": false,
    "pycharm": {
     "name": "#%% md\n"
    }
   }
  },
  {
   "cell_type": "code",
   "execution_count": 7,
   "metadata": {
    "id": "JDGbYTySU3BP",
    "ExecuteTime": {
     "end_time": "2024-01-17T00:18:59.039665Z",
     "start_time": "2024-01-17T00:18:59.037185Z"
    }
   },
   "outputs": [
    {
     "name": "stdout",
     "output_type": "stream",
     "text": [
      "3 potentially hazardous asteroids identified.\n"
     ]
    }
   ],
   "source": [
    "hazards =  []\n",
    "for item in neos:\n",
    "  if item['is_potentially_hazardous_asteroid'] is True:\n",
    "    hazards.append(item)\n",
    "print(f'{len(hazards)} potentially hazardous asteroids identified.')"
   ]
  },
  {
   "cell_type": "markdown",
   "source": [
    "## Exercise 1\n",
    "\n",
    "In the code cell below, **re-write the accumulator loop above** as a [list comprehension](https://realpython.com/lessons/list-comprehensions-overview/) that implements a [\"filter\"](https://youtu.be/hUes6y2b--0)\n",
    "Notice how this provides a concise way to \"filter\" items of interest from a larger data set."
   ],
   "metadata": {
    "collapsed": false,
    "pycharm": {
     "name": "#%% md\n"
    }
   }
  },
  {
   "cell_type": "code",
   "execution_count": 8,
   "outputs": [],
   "source": [
    "# Ex. 1 your code here"
   ],
   "metadata": {
    "collapsed": false,
    "pycharm": {
     "name": "#%%\n"
    },
    "ExecuteTime": {
     "end_time": "2024-01-17T00:18:59.043307Z",
     "start_time": "2024-01-17T00:18:59.039391Z"
    }
   }
  },
  {
   "cell_type": "markdown",
   "source": [
    "## Fetch Complete Data for One Asteroid\n",
    "\n",
    "Notice that the record for each `neo` is a dictionary with `id` field that uniquely identifies this record in the database.\n",
    "\n",
    "We can use this `id` to fetch complete orbital and close approach data for the NEO.\n",
    "\n",
    "For example, this query fetches the complete data set for the first hazardous asteroid...\n"
   ],
   "metadata": {
    "collapsed": false,
    "pycharm": {
     "name": "#%% md\n"
    }
   }
  },
  {
   "cell_type": "code",
   "execution_count": 9,
   "outputs": [
    {
     "name": "stdout",
     "output_type": "stream",
     "text": [
      "NEO 226554 (2003 WR21) with 130 approach records.  Hazardous.\n",
      "Close approach records:\n",
      "[{'close_approach_date': '1900-10-30',\n",
      "  'close_approach_date_full': '1900-Oct-30 21:15',\n",
      "  'epoch_date_close_approach': -2182819500000,\n",
      "  'miss_distance': {'astronomical': '0.4183489295',\n",
      "                    'kilometers': '62584108.769980165',\n",
      "                    'lunar': '162.7377335755',\n",
      "                    'miles': '38887961.930909677'},\n",
      "  'orbiting_body': 'Earth',\n",
      "  'relative_velocity': {'kilometers_per_hour': '30027.9641223136',\n",
      "                        'kilometers_per_second': '8.3411011451',\n",
      "                        'miles_per_hour': '18658.2091514453'}},\n",
      " {'close_approach_date': '1901-06-26',\n",
      "  'close_approach_date_full': '1901-Jun-26 20:27',\n",
      "  'epoch_date_close_approach': -2162172780000,\n",
      "  'miss_distance': {'astronomical': '0.0308795665',\n",
      "                    'kilometers': '4619517.374923355',\n",
      "                    'lunar': '12.0121513685',\n",
      "                    'miles': '2870434.992938099'},\n",
      "  'orbiting_body': 'Earth',\n",
      "  'relative_velocity': {'kilometers_per_hour': '33429.0066078308',\n",
      "                        'kilometers_per_second': '9.2858351688',\n",
      "                        'miles_per_hour': '20771.4846891824'}},\n",
      " {'close_approach_date': '1907-01-08',\n",
      "  'close_approach_date_full': '1907-Jan-08 04:37',\n",
      "  'epoch_date_close_approach': -1987528980000,\n",
      "  'miss_distance': {'astronomical': '0.1240285628',\n",
      "                    'kilometers': '18554408.814041236',\n",
      "                    'lunar': '48.2471109292',\n",
      "                    'miles': '11529175.0220956168'},\n",
      "  'orbiting_body': 'Earth',\n",
      "  'relative_velocity': {'kilometers_per_hour': '24041.8395567329',\n",
      "                        'kilometers_per_second': '6.6782887658',\n",
      "                        'miles_per_hour': '14938.6641401266'}},\n",
      " {'close_approach_date': '1907-09-06',\n",
      "  'close_approach_date_full': '1907-Sep-06 10:51',\n",
      "  'epoch_date_close_approach': -1966684140000,\n",
      "  'miss_distance': {'astronomical': '0.4147265741',\n",
      "                    'kilometers': '62042212.117757167',\n",
      "                    'lunar': '161.3286373249',\n",
      "                    'miles': '38551242.9650842246'},\n",
      "  'orbiting_body': 'Earth',\n",
      "  'relative_velocity': {'kilometers_per_hour': '26520.1894310292',\n",
      "                        'kilometers_per_second': '7.3667192864',\n",
      "                        'miles_per_hour': '16478.6143717415'}},\n",
      " {'close_approach_date': '1909-08-06',\n",
      "  'close_approach_date_full': '1909-Aug-06 06:41',\n",
      "  'epoch_date_close_approach': -1906219140000,\n",
      "  'miss_distance': {'astronomical': '0.1317215629',\n",
      "                    'kilometers': '19705265.242911023',\n",
      "                    'lunar': '51.2396879681',\n",
      "                    'miles': '12244284.0469491974'},\n",
      "  'orbiting_body': 'Venus',\n",
      "  'relative_velocity': {'kilometers_per_hour': '7812.3369916648',\n",
      "                        'kilometers_per_second': '2.1700936088',\n",
      "                        'miles_per_hour': '4854.2823935153'}}]\n"
     ]
    }
   ],
   "source": [
    "id = hazards[0]['id']\n",
    "url = f'https://api.nasa.gov/neo/rest/v1/neo/{id}?api_key={API_KEY}'\n",
    "response = requests.request(\"GET\", url, headers={}, data={})\n",
    "neo_data = json.loads(response.text)\n",
    "\n",
    "print(f'NEO {neo_data[\"name\"]} with {len(neo_data[\"close_approach_data\"])} approach records.  {\"Hazardous.\" if neo_data[\"is_potentially_hazardous_asteroid\"] else \"\"}')\n",
    "print('Close approach records:')\n",
    "close_approach_data = neo_data['close_approach_data']\n",
    "pprint(close_approach_data[:5])"
   ],
   "metadata": {
    "collapsed": false,
    "pycharm": {
     "name": "#%%\n"
    },
    "ExecuteTime": {
     "end_time": "2024-01-17T00:18:59.859971Z",
     "start_time": "2024-01-17T00:18:59.049323Z"
    }
   }
  },
  {
   "cell_type": "markdown",
   "source": [
    "Notice that the `miss_distance` field contains the distance (in various units) by which the NEO missed an \"orbiting body\".\n",
    "\n",
    "## Exercise 2\n",
    "\n",
    "In the code cell below, write a python function that takes a list of \"close approach data\" as a parameter,\n",
    "and returns a 2-tuple with the (date, miss km) of the closest approach to Earth in the list (where \"miss km\" is the miss distance in km).\n",
    "\n",
    "Hints:\n",
    "* notice the input is a list of dictionaries.  Each dictionary has a 'close_approach_date\", \"orbiting_body\", and 'miss_distance' field.\n",
    "* we are only interested in the closest approach to \"Earth\"\n",
    "* use a loop if that is easier to understand - we will look at more compact algorithms to solve this problem in class.\n",
    "\n",
    "Add at least one unit test to check your work - note the test data only needs dictionaries with the fields your function actually uses.\n"
   ],
   "metadata": {
    "id": "DNRs7ynOYwYk"
   }
  },
  {
   "cell_type": "code",
   "source": [
    "# Ex. 2 your code here"
   ],
   "metadata": {
    "colab": {
     "base_uri": "https://localhost:8080/"
    },
    "id": "tiyXTDfnZAd0",
    "outputId": "d458a4a2-813a-4b12-e688-73aa07a687db",
    "ExecuteTime": {
     "end_time": "2024-01-17T00:18:59.866572Z",
     "start_time": "2024-01-17T00:18:59.858349Z"
    }
   },
   "execution_count": 10,
   "outputs": []
  },
  {
   "cell_type": "markdown",
   "source": [
    "## Challenge - Take your skills to the next level...\n",
    "## Exercise 3\n",
    "\n",
    "In the code cell below, write a complete program that:\n",
    " 1. fetches the list of NEO's for this week.\n",
    " 2. for each NEO, fetch it's complete orbital data and determine its closest approach to Earth\n",
    " 3. identify which NEO from this week's data makes the closet approach to earth\n",
    " 4. print a nice message with information about the NEO, when it will approach the Earth, and how close it will come.\n",
    "\n",
    "Hints:\n",
    "* you'll need the start and end date - end date is today, see if you can use a [`timedelta`](https://docs.python.org/3/library/datetime.html#timedelta-objects) object to ge the start date (you can do basic \"date math\" with `timedelta` and `date` objects!)\n",
    "* you may need to modify the function we wrote in Ex. 2 to return a triple with the NEO's id included;\n",
    "* lots of opportunity here for more practice with list comprehensions\n"
   ],
   "metadata": {
    "collapsed": false
   }
  },
  {
   "cell_type": "code",
   "source": [
    "# Ex. 3 (challenge) your code here"
   ],
   "metadata": {
    "colab": {
     "base_uri": "https://localhost:8080/"
    },
    "id": "Ds1YevErlzCe",
    "outputId": "87047de1-ec1b-4a81-d6a1-7f2049b6c2f8",
    "pycharm": {
     "name": "#%%\n"
    },
    "ExecuteTime": {
     "end_time": "2024-01-17T00:18:59.871757Z",
     "start_time": "2024-01-17T00:18:59.865709Z"
    }
   },
   "execution_count": 11,
   "outputs": []
  }
 ]
}
